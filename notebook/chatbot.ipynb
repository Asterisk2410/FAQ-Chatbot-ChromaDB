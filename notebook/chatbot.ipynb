{
 "cells": [
  {
   "cell_type": "code",
   "execution_count": 6,
   "metadata": {},
   "outputs": [
    {
     "name": "stdout",
     "output_type": "stream",
     "text": [
      "jmd shree ganesha\n"
     ]
    }
   ],
   "source": [
    "print('jmd shree ganesha')"
   ]
  },
  {
   "cell_type": "code",
   "execution_count": 7,
   "metadata": {},
   "outputs": [],
   "source": [
    "from langchain.prompts import PromptTemplate\n",
    "from langchain.chains.retrieval_qa.base import RetrievalQA\n",
    "from langchain_pinecone import PineconeVectorStore\n",
    "from langchain_community.embeddings import HuggingFaceEmbeddings\n",
    "from langchain_community.document_loaders import PyPDFLoader, DirectoryLoader\n",
    "from langchain.text_splitter import RecursiveCharacterTextSplitter\n",
    "from langchain.llms import ctransformers\n",
    "import os"
   ]
  },
  {
   "cell_type": "code",
   "execution_count": 8,
   "metadata": {},
   "outputs": [],
   "source": [
    "os.getenv('PINECONE_API_KEY')\n",
    "dataset = r\"C:\\Users\\Admin\\Desktop\\Aster\\FAQ Chatbot\\FAQ-Chatbot\\data\""
   ]
  },
  {
   "cell_type": "code",
   "execution_count": 9,
   "metadata": {},
   "outputs": [],
   "source": [
    "#Extract data from the PDF\n",
    "def load_pdf(data):\n",
    "    loader = DirectoryLoader(data,\n",
    "                    glob=\"*.pdf\",\n",
    "                    loader_cls=PyPDFLoader)\n",
    "    \n",
    "    documents = loader.load()\n",
    "\n",
    "    return documents"
   ]
  },
  {
   "cell_type": "code",
   "execution_count": 10,
   "metadata": {},
   "outputs": [],
   "source": [
    "extracted_data = load_pdf(dataset)"
   ]
  },
  {
   "cell_type": "code",
   "execution_count": 11,
   "metadata": {},
   "outputs": [],
   "source": [
    "def text_splitter(data_pdf):\n",
    "    splitter = RecursiveCharacterTextSplitter(chunk_size=150, chunk_overlap=10)\n",
    "    chunks = splitter.split_documents(data_pdf)\n",
    "    \n",
    "    return chunks"
   ]
  },
  {
   "cell_type": "code",
   "execution_count": 12,
   "metadata": {},
   "outputs": [],
   "source": [
    "text_split_chunks = text_splitter(extracted_data)"
   ]
  },
  {
   "cell_type": "code",
   "execution_count": 13,
   "metadata": {},
   "outputs": [
    {
     "data": {
      "text/plain": [
       "[Document(page_content='Yes, you can book appointments and many treatments directly with us. For most procedures, a \\nGP referral is required.', metadata={'source': 'C:\\\\Users\\\\Admin\\\\Desktop\\\\Aster\\\\FAQ Chatbot\\\\FAQ-Chatbot\\\\data\\\\dataset.pdf', 'page': 0}),\n",
       " Document(page_content='If you are insured, we also recommend that you check with your insurer that you are covered to \\nsee your preferred consultant at our hospital.', metadata={'source': 'C:\\\\Users\\\\Admin\\\\Desktop\\\\Aster\\\\FAQ Chatbot\\\\FAQ-Chatbot\\\\data\\\\dataset.pdf', 'page': 0}),\n",
       " Document(page_content='You can easily book an appointment online with many of our consultants. To find a consultant', metadata={'source': 'C:\\\\Users\\\\Admin\\\\Desktop\\\\Aster\\\\FAQ Chatbot\\\\FAQ-Chatbot\\\\data\\\\dataset.pdf', 'page': 0}),\n",
       " Document(page_content='near you, please clic k here. For more information, please call 0330 173 8200.', metadata={'source': 'C:\\\\Users\\\\Admin\\\\Desktop\\\\Aster\\\\FAQ Chatbot\\\\FAQ-Chatbot\\\\data\\\\dataset.pdf', 'page': 0}),\n",
       " Document(page_content='We are proud to work with expert health professionals who specialize in a wide range of', metadata={'source': 'C:\\\\Users\\\\Admin\\\\Desktop\\\\Aster\\\\FAQ Chatbot\\\\FAQ-Chatbot\\\\data\\\\dataset.pdf', 'page': 0}),\n",
       " Document(page_content='treatments and procedures across the UK. To find a consultant near you, please click here.', metadata={'source': 'C:\\\\Users\\\\Admin\\\\Desktop\\\\Aster\\\\FAQ Chatbot\\\\FAQ-Chatbot\\\\data\\\\dataset.pdf', 'page': 0}),\n",
       " Document(page_content='Consultation fees vary as each consultant sets their own fee.', metadata={'source': 'C:\\\\Users\\\\Admin\\\\Desktop\\\\Aster\\\\FAQ Chatbot\\\\FAQ-Chatbot\\\\data\\\\dataset.pdf', 'page': 0}),\n",
       " Document(page_content='If your consultant advises that you require additional tests or scans during your initial appointment,', metadata={'source': 'C:\\\\Users\\\\Admin\\\\Desktop\\\\Aster\\\\FAQ Chatbot\\\\FAQ-Chatbot\\\\data\\\\dataset.pdf', 'page': 0}),\n",
       " Document(page_content='these costs will not be included in your initial consultation fee. Your consultant and hospital team', metadata={'source': 'C:\\\\Users\\\\Admin\\\\Desktop\\\\Aster\\\\FAQ Chatbot\\\\FAQ-Chatbot\\\\data\\\\dataset.pdf', 'page': 0}),\n",
       " Document(page_content='will con firm these costs for you at that time.  \\nIf you require further information, please call us on 0330 173 8200..', metadata={'source': 'C:\\\\Users\\\\Admin\\\\Desktop\\\\Aster\\\\FAQ Chatbot\\\\FAQ-Chatbot\\\\data\\\\dataset.pdf', 'page': 0}),\n",
       " Document(page_content='A GP referral is required for most procedures as this will ensure that you are booked in for the', metadata={'source': 'C:\\\\Users\\\\Admin\\\\Desktop\\\\Aster\\\\FAQ Chatbot\\\\FAQ-Chatbot\\\\data\\\\dataset.pdf', 'page': 0}),\n",
       " Document(page_content='appropriate speciality. There may be some treatme nts where a referral is not needed. For further', metadata={'source': 'C:\\\\Users\\\\Admin\\\\Desktop\\\\Aster\\\\FAQ Chatbot\\\\FAQ-Chatbot\\\\data\\\\dataset.pdf', 'page': 0}),\n",
       " Document(page_content='information, please give us a call on 0330 173 8200.', metadata={'source': 'C:\\\\Users\\\\Admin\\\\Desktop\\\\Aster\\\\FAQ Chatbot\\\\FAQ-Chatbot\\\\data\\\\dataset.pdf', 'page': 0}),\n",
       " Document(page_content='Nuffield Health also offers private GP services across the UK. To find your nearest location and', metadata={'source': 'C:\\\\Users\\\\Admin\\\\Desktop\\\\Aster\\\\FAQ Chatbot\\\\FAQ-Chatbot\\\\data\\\\dataset.pdf', 'page': 0}),\n",
       " Document(page_content='for more information about our GP services, please click h ere.', metadata={'source': 'C:\\\\Users\\\\Admin\\\\Desktop\\\\Aster\\\\FAQ Chatbot\\\\FAQ-Chatbot\\\\data\\\\dataset.pdf', 'page': 0}),\n",
       " Document(page_content='We will always do our best to find an appointment at a time that is convenient for you. For most', metadata={'source': 'C:\\\\Users\\\\Admin\\\\Desktop\\\\Aster\\\\FAQ Chatbot\\\\FAQ-Chatbot\\\\data\\\\dataset.pdf', 'page': 0}),\n",
       " Document(page_content='initial appointments, the wait time will vary between a few days and a few weeks.', metadata={'source': 'C:\\\\Users\\\\Admin\\\\Desktop\\\\Aster\\\\FAQ Chatbot\\\\FAQ-Chatbot\\\\data\\\\dataset.pdf', 'page': 0}),\n",
       " Document(page_content='Many of our consultants list their outpatient clinic days and times on our website and you can also', metadata={'source': 'C:\\\\Users\\\\Admin\\\\Desktop\\\\Aster\\\\FAQ Chatbot\\\\FAQ-Chatbot\\\\data\\\\dataset.pdf', 'page': 0}),\n",
       " Document(page_content='book an appointment online. To find a consultant near you, please click here. You can also call', metadata={'source': 'C:\\\\Users\\\\Admin\\\\Desktop\\\\Aster\\\\FAQ Chatbot\\\\FAQ-Chatbot\\\\data\\\\dataset.pdf', 'page': 0}),\n",
       " Document(page_content='us on 0330 173 8200 to confirm appointment availability.  \\nIf you require further treatment, your consultant will discuss the next st eps with you.', metadata={'source': 'C:\\\\Users\\\\Admin\\\\Desktop\\\\Aster\\\\FAQ Chatbot\\\\FAQ-Chatbot\\\\data\\\\dataset.pdf', 'page': 0}),\n",
       " Document(page_content='Each treatment plan is different. You can take a look at our treatment guide prices before your \\ninitial consultation.', metadata={'source': 'C:\\\\Users\\\\Admin\\\\Desktop\\\\Aster\\\\FAQ Chatbot\\\\FAQ-Chatbot\\\\data\\\\dataset.pdf', 'page': 0}),\n",
       " Document(page_content='We will offer you an all -inclusive procedure price following your initial consultation. For your peace', metadata={'source': 'C:\\\\Users\\\\Admin\\\\Desktop\\\\Aster\\\\FAQ Chatbot\\\\FAQ-Chatbot\\\\data\\\\dataset.pdf', 'page': 0}),\n",
       " Document(page_content='of mind, this covers  all of your treatment costs, including aftercare, so that you do not have to \\nworry about unexpected bills.', metadata={'source': 'C:\\\\Users\\\\Admin\\\\Desktop\\\\Aster\\\\FAQ Chatbot\\\\FAQ-Chatbot\\\\data\\\\dataset.pdf', 'page': 0}),\n",
       " Document(page_content='If you find an alternative private hospital in your local area offering a better price for the same', metadata={'source': 'C:\\\\Users\\\\Admin\\\\Desktop\\\\Aster\\\\FAQ Chatbot\\\\FAQ-Chatbot\\\\data\\\\dataset.pdf', 'page': 0}),\n",
       " Document(page_content='procedure, sold with the same service conditions , we’ll lower our price to equal it. This is our \\nPromise to you.', metadata={'source': 'C:\\\\Users\\\\Admin\\\\Desktop\\\\Aster\\\\FAQ Chatbot\\\\FAQ-Chatbot\\\\data\\\\dataset.pdf', 'page': 0}),\n",
       " Document(page_content='There are a few ways you can pay for your treatment:  \\n1.You can choose to pay for your consultation and treatment yourself.', metadata={'source': 'C:\\\\Users\\\\Admin\\\\Desktop\\\\Aster\\\\FAQ Chatbot\\\\FAQ-Chatbot\\\\data\\\\dataset.pdf', 'page': 0}),\n",
       " Document(page_content='2.You can spread the cost of your treatment with a personal medica l loan through Chrysalis \\nFinance.', metadata={'source': 'C:\\\\Users\\\\Admin\\\\Desktop\\\\Aster\\\\FAQ Chatbot\\\\FAQ-Chatbot\\\\data\\\\dataset.pdf', 'page': 0}),\n",
       " Document(page_content='3.If you have medical insurance, you will need to liaise closely with your insurance provider \\nthroughout your treatment.', metadata={'source': 'C:\\\\Users\\\\Admin\\\\Desktop\\\\Aster\\\\FAQ Chatbot\\\\FAQ-Chatbot\\\\data\\\\dataset.pdf', 'page': 0}),\n",
       " Document(page_content='We recommend you check your excess with your insurance provider to know the level of coverage \\nthey pr ovide you.', metadata={'source': 'C:\\\\Users\\\\Admin\\\\Desktop\\\\Aster\\\\FAQ Chatbot\\\\FAQ-Chatbot\\\\data\\\\dataset.pdf', 'page': 1}),\n",
       " Document(page_content='We understand that you may be worried or nervous about being examined or treated, so we have', metadata={'source': 'C:\\\\Users\\\\Admin\\\\Desktop\\\\Aster\\\\FAQ Chatbot\\\\FAQ-Chatbot\\\\data\\\\dataset.pdf', 'page': 1}),\n",
       " Document(page_content='chaperons who can be with you. If you would like to bring a friend or family member, that is also \\nfine.', metadata={'source': 'C:\\\\Users\\\\Admin\\\\Desktop\\\\Aster\\\\FAQ Chatbot\\\\FAQ-Chatbot\\\\data\\\\dataset.pdf', 'page': 1}),\n",
       " Document(page_content='fine. \\n \\nPlease let our staff know your requirements when you contact us. We are happy to make suitable', metadata={'source': 'C:\\\\Users\\\\Admin\\\\Desktop\\\\Aster\\\\FAQ Chatbot\\\\FAQ-Chatbot\\\\data\\\\dataset.pdf', 'page': 1}),\n",
       " Document(page_content='arrangements before your visit. If you’d like to bring a friend or family member, please feel free to \\ndo so.', metadata={'source': 'C:\\\\Users\\\\Admin\\\\Desktop\\\\Aster\\\\FAQ Chatbot\\\\FAQ-Chatbot\\\\data\\\\dataset.pdf', 'page': 1}),\n",
       " Document(page_content='You can discuss your medication or medical conditio ns with your consultant during your initial', metadata={'source': 'C:\\\\Users\\\\Admin\\\\Desktop\\\\Aster\\\\FAQ Chatbot\\\\FAQ-Chatbot\\\\data\\\\dataset.pdf', 'page': 1}),\n",
       " Document(page_content='appointment. Please bring any medications or a list of the medicines that you are on to your \\nconsultation.', metadata={'source': 'C:\\\\Users\\\\Admin\\\\Desktop\\\\Aster\\\\FAQ Chatbot\\\\FAQ-Chatbot\\\\data\\\\dataset.pdf', 'page': 1}),\n",
       " Document(page_content='You can also discuss your concerns with the nurse during your pre -assessment appointment or', metadata={'source': 'C:\\\\Users\\\\Admin\\\\Desktop\\\\Aster\\\\FAQ Chatbot\\\\FAQ-Chatbot\\\\data\\\\dataset.pdf', 'page': 1}),\n",
       " Document(page_content='pre-assessmen t telephone call before your treatment. Our nurses will ensure that you receive', metadata={'source': 'C:\\\\Users\\\\Admin\\\\Desktop\\\\Aster\\\\FAQ Chatbot\\\\FAQ-Chatbot\\\\data\\\\dataset.pdf', 'page': 1}),\n",
       " Document(page_content='suitable guidance before your treatment. If needed, they will also liaise with your consultant and \\nanaesthetist.', metadata={'source': 'C:\\\\Users\\\\Admin\\\\Desktop\\\\Aster\\\\FAQ Chatbot\\\\FAQ-Chatbot\\\\data\\\\dataset.pdf', 'page': 1}),\n",
       " Document(page_content='You can discuss your medication or medical conditions with you r consultant during your initial', metadata={'source': 'C:\\\\Users\\\\Admin\\\\Desktop\\\\Aster\\\\FAQ Chatbot\\\\FAQ-Chatbot\\\\data\\\\dataset.pdf', 'page': 1}),\n",
       " Document(page_content='appointment. Please bring any medications or a list of the medicines that you are on to your \\nconsultation.', metadata={'source': 'C:\\\\Users\\\\Admin\\\\Desktop\\\\Aster\\\\FAQ Chatbot\\\\FAQ-Chatbot\\\\data\\\\dataset.pdf', 'page': 1}),\n",
       " Document(page_content='You can also discuss your concerns with the nurse during your pre -assessment appointment or', metadata={'source': 'C:\\\\Users\\\\Admin\\\\Desktop\\\\Aster\\\\FAQ Chatbot\\\\FAQ-Chatbot\\\\data\\\\dataset.pdf', 'page': 1}),\n",
       " Document(page_content='pre-assessment telephone  call before your treatment. Our nurses will ensure that you receive', metadata={'source': 'C:\\\\Users\\\\Admin\\\\Desktop\\\\Aster\\\\FAQ Chatbot\\\\FAQ-Chatbot\\\\data\\\\dataset.pdf', 'page': 1}),\n",
       " Document(page_content='suitable guidance before your treatment. If needed, they will also liaise with your consultant and \\nanaesthetist.', metadata={'source': 'C:\\\\Users\\\\Admin\\\\Desktop\\\\Aster\\\\FAQ Chatbot\\\\FAQ-Chatbot\\\\data\\\\dataset.pdf', 'page': 1}),\n",
       " Document(page_content='Yes, please let the team know your requirements and we will send you all information in your \\npreferred format.', metadata={'source': 'C:\\\\Users\\\\Admin\\\\Desktop\\\\Aster\\\\FAQ Chatbot\\\\FAQ-Chatbot\\\\data\\\\dataset.pdf', 'page': 1}),\n",
       " Document(page_content='Please let our team know your requirements and they will provide you with further information. All', metadata={'source': 'C:\\\\Users\\\\Admin\\\\Desktop\\\\Aster\\\\FAQ Chatbot\\\\FAQ-Chatbot\\\\data\\\\dataset.pdf', 'page': 1}),\n",
       " Document(page_content='clinical information must be provided to you accurately so that you can make an informed decision \\nabout your treatment .', metadata={'source': 'C:\\\\Users\\\\Admin\\\\Desktop\\\\Aster\\\\FAQ Chatbot\\\\FAQ-Chatbot\\\\data\\\\dataset.pdf', 'page': 1}),\n",
       " Document(page_content='To ensure you get the most out of your appointment, we recommend that you do not bring young', metadata={'source': 'C:\\\\Users\\\\Admin\\\\Desktop\\\\Aster\\\\FAQ Chatbot\\\\FAQ-Chatbot\\\\data\\\\dataset.pdf', 'page': 1}),\n",
       " Document(page_content='children with you. You may be required to have tests completed and therefore the environment \\nmay not be suitable.', metadata={'source': 'C:\\\\Users\\\\Admin\\\\Desktop\\\\Aster\\\\FAQ Chatbot\\\\FAQ-Chatbot\\\\data\\\\dataset.pdf', 'page': 1}),\n",
       " Document(page_content='We understand how important the support of fam ily and friends is, so we aim to be flexible with', metadata={'source': 'C:\\\\Users\\\\Admin\\\\Desktop\\\\Aster\\\\FAQ Chatbot\\\\FAQ-Chatbot\\\\data\\\\dataset.pdf', 'page': 1}),\n",
       " Document(page_content='our visiting hours. Please check with the relevant hospital to confirm their specific visitor policy.', metadata={'source': 'C:\\\\Users\\\\Admin\\\\Desktop\\\\Aster\\\\FAQ Chatbot\\\\FAQ-Chatbot\\\\data\\\\dataset.pdf', 'page': 1}),\n",
       " Document(page_content='Please inform the nurse if you have any allergies including latex when you arrive at your \\nappointment.', metadata={'source': 'C:\\\\Users\\\\Admin\\\\Desktop\\\\Aster\\\\FAQ Chatbot\\\\FAQ-Chatbot\\\\data\\\\dataset.pdf', 'page': 1}),\n",
       " Document(page_content='You can discuss allergies and special requirements with your consultant during your initial \\nconsultation.', metadata={'source': 'C:\\\\Users\\\\Admin\\\\Desktop\\\\Aster\\\\FAQ Chatbot\\\\FAQ-Chatbot\\\\data\\\\dataset.pdf', 'page': 2}),\n",
       " Document(page_content='Our pre -assessment nurse will discuss allergies and special requirements with you during your', metadata={'source': 'C:\\\\Users\\\\Admin\\\\Desktop\\\\Aster\\\\FAQ Chatbot\\\\FAQ-Chatbot\\\\data\\\\dataset.pdf', 'page': 2}),\n",
       " Document(page_content='pre-assessment appointment or pre -assessment telephone assessment before your admission.', metadata={'source': 'C:\\\\Users\\\\Admin\\\\Desktop\\\\Aster\\\\FAQ Chatbot\\\\FAQ-Chatbot\\\\data\\\\dataset.pdf', 'page': 2}),\n",
       " Document(page_content='Yes, most patients will have a private room. Some of our hospitals have an ambulatory care suite', metadata={'source': 'C:\\\\Users\\\\Admin\\\\Desktop\\\\Aster\\\\FAQ Chatbot\\\\FAQ-Chatbot\\\\data\\\\dataset.pdf', 'page': 2}),\n",
       " Document(page_content='for patients, who need minor procedures without general anaesthetic.', metadata={'source': 'C:\\\\Users\\\\Admin\\\\Desktop\\\\Aster\\\\FAQ Chatbot\\\\FAQ-Chatbot\\\\data\\\\dataset.pdf', 'page': 2}),\n",
       " Document(page_content='If you are looking into treatments, these are some ter ms that you will come across:', metadata={'source': 'C:\\\\Users\\\\Admin\\\\Desktop\\\\Aster\\\\FAQ Chatbot\\\\FAQ-Chatbot\\\\data\\\\dataset.pdf', 'page': 2}),\n",
       " Document(page_content='Outpatient – a patient who comes in (attends) for a short consultation – this could also be a test, \\na minor treatment or a scan.', metadata={'source': 'C:\\\\Users\\\\Admin\\\\Desktop\\\\Aster\\\\FAQ Chatbot\\\\FAQ-Chatbot\\\\data\\\\dataset.pdf', 'page': 2}),\n",
       " Document(page_content='Day case – a patient who is admitted to the ward for a procedure. This may require some recovery', metadata={'source': 'C:\\\\Users\\\\Admin\\\\Desktop\\\\Aster\\\\FAQ Chatbot\\\\FAQ-Chatbot\\\\data\\\\dataset.pdf', 'page': 2}),\n",
       " Document(page_content='time but patients should be able to go home on the same day. There may be some assessment \\nor preparation before admission.', metadata={'source': 'C:\\\\Users\\\\Admin\\\\Desktop\\\\Aster\\\\FAQ Chatbot\\\\FAQ-Chatbot\\\\data\\\\dataset.pdf', 'page': 2}),\n",
       " Document(page_content='Inpatient – a patient who stays in the hospital for one or more nights. There may be some \\nassessment or preparation before admission.', metadata={'source': 'C:\\\\Users\\\\Admin\\\\Desktop\\\\Aster\\\\FAQ Chatbot\\\\FAQ-Chatbot\\\\data\\\\dataset.pdf', 'page': 2}),\n",
       " Document(page_content='We have a wide range of tests and scans available at our hospitals.', metadata={'source': 'C:\\\\Users\\\\Admin\\\\Desktop\\\\Aster\\\\FAQ Chatbot\\\\FAQ-Chatbot\\\\data\\\\dataset.pdf', 'page': 2}),\n",
       " Document(page_content='Yes, you can. Our price will include the cost of the test or scan, and the report. Reporting will be', metadata={'source': 'C:\\\\Users\\\\Admin\\\\Desktop\\\\Aster\\\\FAQ Chatbot\\\\FAQ-Chatbot\\\\data\\\\dataset.pdf', 'page': 2}),\n",
       " Document(page_content='provided by some of the UK’s most qualified Radiologists and Pathologists.', metadata={'source': 'C:\\\\Users\\\\Admin\\\\Desktop\\\\Aster\\\\FAQ Chatbot\\\\FAQ-Chatbot\\\\data\\\\dataset.pdf', 'page': 2}),\n",
       " Document(page_content='Click here to view the prices of our most popular tests and scans at your chosen Nuffield Health \\nhospital.', metadata={'source': 'C:\\\\Users\\\\Admin\\\\Desktop\\\\Aster\\\\FAQ Chatbot\\\\FAQ-Chatbot\\\\data\\\\dataset.pdf', 'page': 2}),\n",
       " Document(page_content='This will vary depending on the scan you require and the availability of our consultant radiologists,', metadata={'source': 'C:\\\\Users\\\\Admin\\\\Desktop\\\\Aster\\\\FAQ Chatbot\\\\FAQ-Chatbot\\\\data\\\\dataset.pdf', 'page': 2}),\n",
       " Document(page_content='however we endeavour to book appointments as q uickly as possible.', metadata={'source': 'C:\\\\Users\\\\Admin\\\\Desktop\\\\Aster\\\\FAQ Chatbot\\\\FAQ-Chatbot\\\\data\\\\dataset.pdf', 'page': 2}),\n",
       " Document(page_content='Yes, please let us know where and when you had your test or scan taken as soon as possible', metadata={'source': 'C:\\\\Users\\\\Admin\\\\Desktop\\\\Aster\\\\FAQ Chatbot\\\\FAQ-Chatbot\\\\data\\\\dataset.pdf', 'page': 2}),\n",
       " Document(page_content='and our team will do their best to obtain your results ready for your consultant to view.  \\n \\nWe have a radiology department in all our hospitals.', metadata={'source': 'C:\\\\Users\\\\Admin\\\\Desktop\\\\Aster\\\\FAQ Chatbot\\\\FAQ-Chatbot\\\\data\\\\dataset.pdf', 'page': 2}),\n",
       " Document(page_content='To book a scan, you will first need to obtain a referral from a suitable health -care professional.', metadata={'source': 'C:\\\\Users\\\\Admin\\\\Desktop\\\\Aster\\\\FAQ Chatbot\\\\FAQ-Chatbot\\\\data\\\\dataset.pdf', 'page': 2}),\n",
       " Document(page_content='Your health -care professional will either send your referral directly to your chosen Nuffield Health', metadata={'source': 'C:\\\\Users\\\\Admin\\\\Desktop\\\\Aster\\\\FAQ Chatbot\\\\FAQ-Chatbot\\\\data\\\\dataset.pdf', 'page': 2}),\n",
       " Document(page_content='Radiology department, or they may provide you with the referral. If this is the case, you can email', metadata={'source': 'C:\\\\Users\\\\Admin\\\\Desktop\\\\Aster\\\\FAQ Chatbot\\\\FAQ-Chatbot\\\\data\\\\dataset.pdf', 'page': 2}),\n",
       " Document(page_content='your referral to us. Once your referral has been reviewed, a member of the team will contact you', metadata={'source': 'C:\\\\Users\\\\Admin\\\\Desktop\\\\Aster\\\\FAQ Chatbot\\\\FAQ-Chatbot\\\\data\\\\dataset.pdf', 'page': 2}),\n",
       " Document(page_content='via phone call to book a suitable appointment for you.', metadata={'source': 'C:\\\\Users\\\\Admin\\\\Desktop\\\\Aster\\\\FAQ Chatbot\\\\FAQ-Chatbot\\\\data\\\\dataset.pdf', 'page': 2}),\n",
       " Document(page_content='Some scans do require specific preparation. This will be d iscussed with you when you book your', metadata={'source': 'C:\\\\Users\\\\Admin\\\\Desktop\\\\Aster\\\\FAQ Chatbot\\\\FAQ-Chatbot\\\\data\\\\dataset.pdf', 'page': 2}),\n",
       " Document(page_content='appointment and will be confirmed in your appointment confirmation. If you have booked a scan', metadata={'source': 'C:\\\\Users\\\\Admin\\\\Desktop\\\\Aster\\\\FAQ Chatbot\\\\FAQ-Chatbot\\\\data\\\\dataset.pdf', 'page': 2}),\n",
       " Document(page_content='and have any questions regarding your preparation instructions, please contact your hospital via \\nphone or email.', metadata={'source': 'C:\\\\Users\\\\Admin\\\\Desktop\\\\Aster\\\\FAQ Chatbot\\\\FAQ-Chatbot\\\\data\\\\dataset.pdf', 'page': 2}),\n",
       " Document(page_content='Once your s can has been completed, our Radiologists will report on your results. The report will', metadata={'source': 'C:\\\\Users\\\\Admin\\\\Desktop\\\\Aster\\\\FAQ Chatbot\\\\FAQ-Chatbot\\\\data\\\\dataset.pdf', 'page': 3}),\n",
       " Document(page_content='be sent to your referring health -care professional within approximately one week of your', metadata={'source': 'C:\\\\Users\\\\Admin\\\\Desktop\\\\Aster\\\\FAQ Chatbot\\\\FAQ-Chatbot\\\\data\\\\dataset.pdf', 'page': 3}),\n",
       " Document(page_content='appointment. Reporting times may vary for specialist examinations, so we recommen d checking', metadata={'source': 'C:\\\\Users\\\\Admin\\\\Desktop\\\\Aster\\\\FAQ Chatbot\\\\FAQ-Chatbot\\\\data\\\\dataset.pdf', 'page': 3}),\n",
       " Document(page_content='with the hospital team before you leave. Your health -care professional will be responsible for \\nrelaying the results to you.', metadata={'source': 'C:\\\\Users\\\\Admin\\\\Desktop\\\\Aster\\\\FAQ Chatbot\\\\FAQ-Chatbot\\\\data\\\\dataset.pdf', 'page': 3}),\n",
       " Document(page_content='Due to the medical nature of reports, your results need to be interpreted and relayed to you by a', metadata={'source': 'C:\\\\Users\\\\Admin\\\\Desktop\\\\Aster\\\\FAQ Chatbot\\\\FAQ-Chatbot\\\\data\\\\dataset.pdf', 'page': 3}),\n",
       " Document(page_content='health -care profession al. For this reason, we are unable to provide reports direactly to patients', metadata={'source': 'C:\\\\Users\\\\Admin\\\\Desktop\\\\Aster\\\\FAQ Chatbot\\\\FAQ-Chatbot\\\\data\\\\dataset.pdf', 'page': 3}),\n",
       " Document(page_content='until we have received confirmation that your referring clinician has relayed your results to you.', metadata={'source': 'C:\\\\Users\\\\Admin\\\\Desktop\\\\Aster\\\\FAQ Chatbot\\\\FAQ-Chatbot\\\\data\\\\dataset.pdf', 'page': 3})]"
      ]
     },
     "execution_count": 13,
     "metadata": {},
     "output_type": "execute_result"
    }
   ],
   "source": [
    "text_split_chunks"
   ]
  },
  {
   "cell_type": "code",
   "execution_count": 14,
   "metadata": {},
   "outputs": [
    {
     "name": "stdout",
     "output_type": "stream",
     "text": [
      "84\n"
     ]
    }
   ],
   "source": [
    "print(len(text_split_chunks))"
   ]
  },
  {
   "cell_type": "code",
   "execution_count": 15,
   "metadata": {},
   "outputs": [],
   "source": [
    "def text_to_embeddings():\n",
    "    embeddings = HuggingFaceEmbeddings(model_name=\"sentence-transformers/all-MiniLM-L6-v2\")\n",
    "    return embeddings"
   ]
  },
  {
   "cell_type": "code",
   "execution_count": 16,
   "metadata": {},
   "outputs": [
    {
     "name": "stderr",
     "output_type": "stream",
     "text": [
      "c:\\Users\\Admin\\Desktop\\Aster\\FAQ Chatbot\\FAQ-Chatbot\\chatbot\\lib\\site-packages\\huggingface_hub\\file_download.py:1132: FutureWarning: `resume_download` is deprecated and will be removed in version 1.0.0. Downloads always resume when possible. If you want to force a new download, use `force_download=True`.\n",
      "  warnings.warn(\n",
      "c:\\Users\\Admin\\Desktop\\Aster\\FAQ Chatbot\\FAQ-Chatbot\\chatbot\\lib\\site-packages\\huggingface_hub\\file_download.py:1132: FutureWarning: `resume_download` is deprecated and will be removed in version 1.0.0. Downloads always resume when possible. If you want to force a new download, use `force_download=True`.\n",
      "  warnings.warn(\n"
     ]
    }
   ],
   "source": [
    "embeddings = text_to_embeddings()"
   ]
  },
  {
   "cell_type": "code",
   "execution_count": 17,
   "metadata": {},
   "outputs": [
    {
     "data": {
      "text/plain": [
       "HuggingFaceEmbeddings(client=SentenceTransformer(\n",
       "  (0): Transformer({'max_seq_length': 256, 'do_lower_case': False}) with Transformer model: BertModel \n",
       "  (1): Pooling({'word_embedding_dimension': 384, 'pooling_mode_cls_token': False, 'pooling_mode_mean_tokens': True, 'pooling_mode_max_tokens': False, 'pooling_mode_mean_sqrt_len_tokens': False, 'pooling_mode_weightedmean_tokens': False, 'pooling_mode_lasttoken': False, 'include_prompt': True})\n",
       "  (2): Normalize()\n",
       "), model_name='sentence-transformers/all-MiniLM-L6-v2', cache_folder=None, model_kwargs={}, encode_kwargs={}, multi_process=False, show_progress=False)"
      ]
     },
     "execution_count": 17,
     "metadata": {},
     "output_type": "execute_result"
    }
   ],
   "source": [
    "embeddings"
   ]
  },
  {
   "cell_type": "code",
   "execution_count": 18,
   "metadata": {},
   "outputs": [
    {
     "name": "stdout",
     "output_type": "stream",
     "text": [
      "Length 384\n"
     ]
    }
   ],
   "source": [
    "query_result = embeddings.embed_query(\"Hello world\")\n",
    "print(\"Length\", len(query_result))"
   ]
  },
  {
   "cell_type": "code",
   "execution_count": 19,
   "metadata": {},
   "outputs": [
    {
     "data": {
      "text/plain": [
       "[-0.034477315843105316,\n",
       " 0.03102317452430725,\n",
       " 0.006734929047524929,\n",
       " 0.026108937337994576,\n",
       " -0.03936201333999634,\n",
       " -0.16030247509479523,\n",
       " 0.06692397594451904,\n",
       " -0.006441450212150812,\n",
       " -0.047450464218854904,\n",
       " 0.014758866280317307,\n",
       " 0.07087530195713043,\n",
       " 0.055527571588754654,\n",
       " 0.019193321466445923,\n",
       " -0.02625134214758873,\n",
       " -0.010109540075063705,\n",
       " -0.026940450072288513,\n",
       " 0.022307438775897026,\n",
       " -0.022226622328162193,\n",
       " -0.1496925801038742,\n",
       " -0.017493009567260742,\n",
       " 0.007676264736801386,\n",
       " 0.05435226112604141,\n",
       " 0.0032544350251555443,\n",
       " 0.0317259319126606,\n",
       " -0.08462139964103699,\n",
       " -0.029405999928712845,\n",
       " 0.05159561708569527,\n",
       " 0.0481240451335907,\n",
       " -0.0033148531801998615,\n",
       " -0.05827915295958519,\n",
       " 0.04196926951408386,\n",
       " 0.022210637107491493,\n",
       " 0.12818880379199982,\n",
       " -0.022338969632983208,\n",
       " -0.011656252667307854,\n",
       " 0.06292839348316193,\n",
       " -0.032876309007406235,\n",
       " -0.09122602641582489,\n",
       " -0.031175294890999794,\n",
       " 0.052699558436870575,\n",
       " 0.04703482240438461,\n",
       " -0.0842030942440033,\n",
       " -0.030056163668632507,\n",
       " -0.02074483036994934,\n",
       " 0.009517792612314224,\n",
       " -0.0037217680364847183,\n",
       " 0.00734331039711833,\n",
       " 0.039324335753917694,\n",
       " 0.09327398240566254,\n",
       " -0.0037885636556893587,\n",
       " -0.052742090076208115,\n",
       " -0.058058205991983414,\n",
       " -0.0068643284030258656,\n",
       " 0.005283221136778593,\n",
       " 0.08289297670125961,\n",
       " 0.019362807273864746,\n",
       " 0.006284490693360567,\n",
       " -0.010330773890018463,\n",
       " 0.009032395668327808,\n",
       " -0.03768371790647507,\n",
       " -0.04520605131983757,\n",
       " 0.024016303941607475,\n",
       " -0.006944163702428341,\n",
       " 0.013491644524037838,\n",
       " 0.10005500912666321,\n",
       " -0.07168388366699219,\n",
       " -0.021695101633667946,\n",
       " 0.03161844238638878,\n",
       " -0.051634661853313446,\n",
       " -0.0822477713227272,\n",
       " -0.06569332629442215,\n",
       " -0.00989534892141819,\n",
       " 0.005816355347633362,\n",
       " 0.07355453073978424,\n",
       " -0.03405032679438591,\n",
       " 0.024886121973395348,\n",
       " 0.0144880972802639,\n",
       " 0.026457365602254868,\n",
       " 0.009656773880124092,\n",
       " 0.030217254534363747,\n",
       " 0.05280395224690437,\n",
       " -0.07535986602306366,\n",
       " 0.00989715289324522,\n",
       " 0.02983684465289116,\n",
       " 0.017555566504597664,\n",
       " 0.023091891780495644,\n",
       " 0.0019338794518262148,\n",
       " 0.0014002114767208695,\n",
       " -0.04717595502734184,\n",
       " -0.011194325983524323,\n",
       " -0.11420142650604248,\n",
       " -0.01981193572282791,\n",
       " 0.0402662493288517,\n",
       " 0.0021929761860519648,\n",
       " -0.07979220151901245,\n",
       " -0.025382257997989655,\n",
       " 0.09448301792144775,\n",
       " -0.02898106910288334,\n",
       " -0.14500252902507782,\n",
       " 0.2309773862361908,\n",
       " 0.02773117832839489,\n",
       " 0.032111458480358124,\n",
       " 0.031065020710229874,\n",
       " 0.04283284395933151,\n",
       " 0.06423778086900711,\n",
       " 0.032163120806217194,\n",
       " -0.004876741208136082,\n",
       " 0.055699437856674194,\n",
       " -0.037532366812229156,\n",
       " -0.02150551788508892,\n",
       " -0.028342682868242264,\n",
       " -0.028846928849816322,\n",
       " 0.03835304453969002,\n",
       " -0.017468661069869995,\n",
       " 0.05248526111245155,\n",
       " -0.07487601786851883,\n",
       " -0.031259726732969284,\n",
       " 0.021841563284397125,\n",
       " -0.03989574313163757,\n",
       " -0.008587086573243141,\n",
       " 0.02695656381547451,\n",
       " -0.04849552363157272,\n",
       " 0.011469874531030655,\n",
       " 0.029618220403790474,\n",
       " -0.020572176203131676,\n",
       " 0.01310383528470993,\n",
       " 0.02883344143629074,\n",
       " -3.194198717480234e-33,\n",
       " 0.06478209793567657,\n",
       " -0.018130235373973846,\n",
       " 0.05178993195295334,\n",
       " 0.12198273092508316,\n",
       " 0.02878018282353878,\n",
       " 0.008721978403627872,\n",
       " -0.07052114605903625,\n",
       " -0.01690734550356865,\n",
       " 0.040739692747592926,\n",
       " 0.042116180062294006,\n",
       " 0.025447193533182144,\n",
       " 0.03574623912572861,\n",
       " -0.04914475604891777,\n",
       " 0.002129028085619211,\n",
       " -0.015546532347798347,\n",
       " 0.05073053389787674,\n",
       " -0.0481853187084198,\n",
       " 0.03588062524795532,\n",
       " -0.004067041911184788,\n",
       " 0.10172473639249802,\n",
       " -0.05597006529569626,\n",
       " -0.010681050829589367,\n",
       " 0.011235782876610756,\n",
       " 0.09068658947944641,\n",
       " 0.004234434105455875,\n",
       " 0.03513866662979126,\n",
       " -0.009702890180051327,\n",
       " -0.09386513382196426,\n",
       " 0.09285557270050049,\n",
       " 0.008004949428141117,\n",
       " -0.00770545331761241,\n",
       " -0.052086666226387024,\n",
       " -0.012588017620146275,\n",
       " 0.003266907762736082,\n",
       " 0.006013474892824888,\n",
       " 0.0075816018506884575,\n",
       " 0.010517124086618423,\n",
       " -0.08634559065103531,\n",
       " -0.06987880170345306,\n",
       " -0.0025339103303849697,\n",
       " -0.09097658842802048,\n",
       " 0.046887271106243134,\n",
       " 0.052076540887355804,\n",
       " 0.007193878758698702,\n",
       " 0.010903672315180302,\n",
       " -0.005229516886174679,\n",
       " 0.013937322422862053,\n",
       " 0.021968375891447067,\n",
       " 0.03420860320329666,\n",
       " 0.060224711894989014,\n",
       " 0.00011665989586617798,\n",
       " 0.014731939882040024,\n",
       " -0.07008925080299377,\n",
       " 0.028499038890004158,\n",
       " -0.027601655572652817,\n",
       " 0.010768457315862179,\n",
       " 0.03483094647526741,\n",
       " -0.02248789556324482,\n",
       " 0.009769028052687645,\n",
       " 0.07722779363393784,\n",
       " 0.02158835344016552,\n",
       " 0.11495622247457504,\n",
       " -0.06800118833780289,\n",
       " 0.023760998621582985,\n",
       " -0.015983935445547104,\n",
       " -0.017827007919549942,\n",
       " 0.06439490616321564,\n",
       " 0.03202573582530022,\n",
       " 0.050270289182662964,\n",
       " -0.0059137484058737755,\n",
       " -0.033708032220602036,\n",
       " 0.017840266227722168,\n",
       " 0.01657334342598915,\n",
       " 0.06329654157161713,\n",
       " 0.034677181392908096,\n",
       " 0.0464734248816967,\n",
       " 0.09790611267089844,\n",
       " -0.006635517813265324,\n",
       " 0.02520705573260784,\n",
       " -0.07798831164836884,\n",
       " 0.01692645251750946,\n",
       " -0.0009458298445679247,\n",
       " 0.022471899166703224,\n",
       " -0.038253214210271835,\n",
       " 0.0957048162817955,\n",
       " -0.0053508104756474495,\n",
       " 0.01046912744641304,\n",
       " -0.11524050682783127,\n",
       " -0.013262545689940453,\n",
       " -0.010709485039114952,\n",
       " -0.08311725407838821,\n",
       " 0.07327359914779663,\n",
       " 0.049392227083444595,\n",
       " -0.008994371630251408,\n",
       " -0.09584557265043259,\n",
       " 3.366147459724626e-33,\n",
       " 0.12493176758289337,\n",
       " 0.019349729642271996,\n",
       " -0.05822572112083435,\n",
       " -0.03598818928003311,\n",
       " -0.050746671855449677,\n",
       " -0.04566238820552826,\n",
       " -0.08260343968868256,\n",
       " 0.14819476008415222,\n",
       " -0.08842118084430695,\n",
       " 0.06027444079518318,\n",
       " 0.05103012174367905,\n",
       " 0.010303148068487644,\n",
       " 0.14121422171592712,\n",
       " 0.03081381693482399,\n",
       " 0.061033137142658234,\n",
       " -0.052851274609565735,\n",
       " 0.1366489678621292,\n",
       " 0.009189889766275883,\n",
       " -0.017325177788734436,\n",
       " -0.012848655693233013,\n",
       " -0.007995251566171646,\n",
       " -0.05098004266619682,\n",
       " -0.05235065892338753,\n",
       " 0.007593024056404829,\n",
       " -0.015166363678872585,\n",
       " 0.01696031540632248,\n",
       " 0.021270573139190674,\n",
       " 0.020558025687932968,\n",
       " -0.12002809345722198,\n",
       " 0.01446183305233717,\n",
       " 0.026759907603263855,\n",
       " 0.025330686941742897,\n",
       " -0.042754657566547394,\n",
       " 0.0067684282548725605,\n",
       " -0.01445856411010027,\n",
       " 0.04526194930076599,\n",
       " -0.09147649258375168,\n",
       " -0.019439080730080605,\n",
       " -0.017833523452281952,\n",
       " -0.054910171777009964,\n",
       " -0.052641093730926514,\n",
       " -0.010459099896252155,\n",
       " -0.05201607942581177,\n",
       " 0.02089199796319008,\n",
       " -0.07997031509876251,\n",
       " -0.012111294083297253,\n",
       " -0.05773141235113144,\n",
       " 0.023178284987807274,\n",
       " -0.00803173054009676,\n",
       " -0.025989321991801262,\n",
       " -0.07995665818452835,\n",
       " -0.020728817209601402,\n",
       " 0.048817697912454605,\n",
       " -0.02038910984992981,\n",
       " -0.04917659983038902,\n",
       " 0.014159615151584148,\n",
       " -0.06362204998731613,\n",
       " -0.007807388436049223,\n",
       " 0.016431543976068497,\n",
       " -0.025682467967271805,\n",
       " 0.013381117954850197,\n",
       " 0.0262487530708313,\n",
       " 0.009978395886719227,\n",
       " 0.06322886049747467,\n",
       " 0.0026722063776105642,\n",
       " -0.006582765374332666,\n",
       " 0.01663193106651306,\n",
       " 0.032366447150707245,\n",
       " 0.037942446768283844,\n",
       " -0.036376021802425385,\n",
       " -0.006910944357514381,\n",
       " 0.00015969148080330342,\n",
       " -0.0016335390973836184,\n",
       " -0.02727816440165043,\n",
       " -0.028038065880537033,\n",
       " 0.04968145862221718,\n",
       " -0.028867186978459358,\n",
       " -0.002418049843981862,\n",
       " 0.014774903655052185,\n",
       " 0.009764507412910461,\n",
       " 0.005797591991722584,\n",
       " 0.013486175797879696,\n",
       " 0.005567960906773806,\n",
       " 0.037227120250463486,\n",
       " 0.0072324927896261215,\n",
       " 0.04015621170401573,\n",
       " 0.08150332421064377,\n",
       " 0.07199165970087051,\n",
       " -0.013056157156825066,\n",
       " -0.04288208857178688,\n",
       " -0.011011234484612942,\n",
       " 0.00489779794588685,\n",
       " -0.00922972708940506,\n",
       " 0.03519143536686897,\n",
       " -0.0510350801050663,\n",
       " -1.571437557856825e-08,\n",
       " -0.08862441778182983,\n",
       " 0.023909272626042366,\n",
       " -0.01623876579105854,\n",
       " 0.03170048072934151,\n",
       " 0.027284234762191772,\n",
       " 0.05246884003281593,\n",
       " -0.04707092046737671,\n",
       " -0.05884745717048645,\n",
       " -0.0632082000374794,\n",
       " 0.040888529270887375,\n",
       " 0.049827978014945984,\n",
       " 0.10655171424150467,\n",
       " -0.07450230419635773,\n",
       " -0.012495444156229496,\n",
       " 0.018370671197772026,\n",
       " 0.03947410359978676,\n",
       " -0.02479788102209568,\n",
       " 0.014516260474920273,\n",
       " -0.037069182842969894,\n",
       " 0.020015710964798927,\n",
       " -4.858340980717912e-05,\n",
       " 0.009866577573120594,\n",
       " 0.024838751181960106,\n",
       " -0.052458181977272034,\n",
       " 0.02931421808898449,\n",
       " -0.0871918797492981,\n",
       " -0.014499683864414692,\n",
       " 0.026019064709544182,\n",
       " -0.018746348097920418,\n",
       " -0.07620515674352646,\n",
       " 0.035043321549892426,\n",
       " 0.10363951325416565,\n",
       " -0.028050484135746956,\n",
       " 0.012718153186142445,\n",
       " -0.07632548362016678,\n",
       " -0.018652355298399925,\n",
       " 0.024976732209324837,\n",
       " 0.08144531399011612,\n",
       " 0.06875885277986526,\n",
       " -0.06405659019947052,\n",
       " -0.08389383554458618,\n",
       " 0.061362359672784805,\n",
       " -0.033545564860105515,\n",
       " -0.10615333169698715,\n",
       " -0.04008059948682785,\n",
       " 0.03253022953867912,\n",
       " 0.07662481814622879,\n",
       " -0.07301618158817291,\n",
       " 0.00033759165671654046,\n",
       " -0.04087163135409355,\n",
       " -0.07578852027654648,\n",
       " 0.0275276992470026,\n",
       " 0.0746254250407219,\n",
       " 0.017717275768518448,\n",
       " 0.091218501329422,\n",
       " 0.11022016406059265,\n",
       " 0.0005698491586372256,\n",
       " 0.05146333575248718,\n",
       " -0.01455130334943533,\n",
       " 0.03323201835155487,\n",
       " 0.023792259395122528,\n",
       " -0.022889817133545876,\n",
       " 0.03893750160932541,\n",
       " 0.0302068293094635]"
      ]
     },
     "execution_count": 19,
     "metadata": {},
     "output_type": "execute_result"
    }
   ],
   "source": [
    "query_result"
   ]
  },
  {
   "cell_type": "code",
   "execution_count": 20,
   "metadata": {},
   "outputs": [],
   "source": [
    "client = PineconeVectorStore(index_name = \"chat\",embedding=embeddings, pinecone_api_key='c5a1e2ec-7282-49f0-aed3-aa96eabfca32')"
   ]
  },
  {
   "cell_type": "code",
   "execution_count": 21,
   "metadata": {},
   "outputs": [],
   "source": [
    "t_chunks = [t.page_content for t in text_split_chunks]\n",
    "index_name = \"chat\"\n",
    "doc_test = PineconeVectorStore.from_texts(t_chunks,\n",
    "            index_name=index_name,\n",
    "            embedding=embeddings\n",
    "        )\n"
   ]
  },
  {
   "cell_type": "code",
   "execution_count": 22,
   "metadata": {},
   "outputs": [
    {
     "data": {
      "text/plain": [
       "<langchain_pinecone.vectorstores.PineconeVectorStore at 0x209d83a2800>"
      ]
     },
     "execution_count": 22,
     "metadata": {},
     "output_type": "execute_result"
    }
   ],
   "source": [
    "doc_test"
   ]
  },
  {
   "cell_type": "code",
   "execution_count": 23,
   "metadata": {},
   "outputs": [
    {
     "name": "stdout",
     "output_type": "stream",
     "text": [
      "Result [Document(page_content='please  click  here.  For more  information,  please  call 0330  173 8200.  \\nQ. How  can I find out more  about  your consultants ?'), Document(page_content='please  click  here.  For more  information,  please  call 0330  173 8200.  \\nQ. How  can I find out more  about  your consultants ?'), Document(page_content='please  click  here.  For more  information,  please  call 0330  173 8200.  \\nQ. How  can I find out more  about  your consultants ?'), Document(page_content='You can easily  book  an appointment  online  with many  of our consultants.  To find a consultant  near you,'), Document(page_content='You can easily  book  an appointment  online  with many  of our consultants.  To find a consultant  near you,')]\n"
     ]
    }
   ],
   "source": [
    "docsearch=PineconeVectorStore.from_existing_index(index_name, embeddings)\n",
    "\n",
    "query = \"How can I find out more about your consultants?\"\n",
    "\n",
    "docs=docsearch.similarity_search(query, k=5)\n",
    "\n",
    "print(\"Result\", docs)"
   ]
  },
  {
   "cell_type": "code",
   "execution_count": 24,
   "metadata": {},
   "outputs": [],
   "source": [
    "prompt_template=\"\"\"\n",
    "Use the following pieces of information to answer the user's question. You are a helpful assistant who answers questions related to Nuffield Health Hospital.\n",
    "If the question is not related to Nuffield Health, respond with \"I don't know, It's out of my knowledge base.\", \n",
    "else if you don't know the answer, just say that to contact the helpline number 0330 173 8200. Not to ask for the phone number.\n",
    "\n",
    "Context: {context}\n",
    "\n",
    "Question: {question}\n",
    "\n",
    "Only return the helpful answer below and nothing else.\n",
    "Helpful answer:\n",
    "\"\"\""
   ]
  },
  {
   "cell_type": "code",
   "execution_count": 25,
   "metadata": {},
   "outputs": [],
   "source": [
    "PROMPT=PromptTemplate(template=prompt_template, input_variables=[\"context\", \"question\"])\n",
    "chain_type_kwargs={\"prompt\": PROMPT}"
   ]
  },
  {
   "cell_type": "code",
   "execution_count": 26,
   "metadata": {},
   "outputs": [],
   "source": [
    "llm=ctransformers.CTransformers(model=r\"C:\\Users\\Admin\\Desktop\\Aster\\FAQ Chatbot\\FAQ-Chatbot\\model\\llama-2-7b-chat.ggmlv3.q4_0.bin\",\n",
    "                  model_type=\"llama\",\n",
    "                  config={'max_new_tokens':512,\n",
    "                          'temperature':0})"
   ]
  },
  {
   "cell_type": "code",
   "execution_count": 27,
   "metadata": {},
   "outputs": [],
   "source": [
    "qa=RetrievalQA.from_chain_type(\n",
    "    llm=llm, \n",
    "    chain_type=\"stuff\", \n",
    "    retriever=docsearch.as_retriever(search_kwargs={'k': 5}),\n",
    "    return_source_documents=True, \n",
    "    chain_type_kwargs=chain_type_kwargs)"
   ]
  },
  {
   "cell_type": "code",
   "execution_count": 28,
   "metadata": {},
   "outputs": [
    {
     "name": "stderr",
     "output_type": "stream",
     "text": [
      "c:\\Users\\Admin\\Desktop\\Aster\\FAQ Chatbot\\FAQ-Chatbot\\chatbot\\lib\\site-packages\\langchain_core\\_api\\deprecation.py:119: LangChainDeprecationWarning: The method `Chain.__call__` was deprecated in langchain 0.1.0 and will be removed in 0.2.0. Use invoke instead.\n",
      "  warn_deprecated(\n"
     ]
    }
   ],
   "source": [
    "while True:\n",
    "    user_input=input(f\"Input Prompt:\")\n",
    "    result=qa({\"query\": user_input})\n",
    "    print(\"Response : \", result[\"result\"])"
   ]
  }
 ],
 "metadata": {
  "kernelspec": {
   "display_name": "chatbot",
   "language": "python",
   "name": "python3"
  },
  "language_info": {
   "codemirror_mode": {
    "name": "ipython",
    "version": 3
   },
   "file_extension": ".py",
   "mimetype": "text/x-python",
   "name": "python",
   "nbconvert_exporter": "python",
   "pygments_lexer": "ipython3",
   "version": "3.10.10"
  }
 },
 "nbformat": 4,
 "nbformat_minor": 2
}
