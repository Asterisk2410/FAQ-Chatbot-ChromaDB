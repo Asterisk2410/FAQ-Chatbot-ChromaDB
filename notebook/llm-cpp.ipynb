{
 "cells": [
  {
   "cell_type": "code",
   "execution_count": 20,
   "metadata": {},
   "outputs": [
    {
     "name": "stdout",
     "output_type": "stream",
     "text": [
      "jmd shree ganesha\n"
     ]
    }
   ],
   "source": [
    "print('jmd shree ganesha')"
   ]
  },
  {
   "cell_type": "code",
   "execution_count": 21,
   "metadata": {},
   "outputs": [],
   "source": [
    "from langchain.callbacks.manager import CallbackManager\n",
    "from langchain.callbacks.streaming_stdout import StreamingStdOutCallbackHandler\n",
    "from langchain.prompts import PromptTemplate\n",
    "from langchain.chains.retrieval_qa.base import RetrievalQA\n",
    "from langchain.chains.llm import LLMChain\n",
    "from langchain_community.vectorstores import chroma\n",
    "from langchain_community.llms import llamacpp\n",
    "from langchain_community.document_loaders import PyPDFLoader, DirectoryLoader\n",
    "from langchain.text_splitter import RecursiveCharacterTextSplitter\n",
    "from langchain_community.embeddings import HuggingFaceEmbeddings\n",
    "from langchain.memory import ConversationBufferMemory\n",
    "import os"
   ]
  },
  {
   "cell_type": "code",
   "execution_count": 22,
   "metadata": {},
   "outputs": [
    {
     "name": "stdout",
     "output_type": "stream",
     "text": [
      "/home/aster/FAQ-Chatbot-ChromaDB/notebook\n"
     ]
    }
   ],
   "source": [
    "import os\n",
    "print(os.getcwd())"
   ]
  },
  {
   "cell_type": "code",
   "execution_count": 23,
   "metadata": {},
   "outputs": [],
   "source": [
    "dataset = r\"/home/aster/FAQ-Chatbot-ChromaDB/data\""
   ]
  },
  {
   "cell_type": "code",
   "execution_count": 24,
   "metadata": {},
   "outputs": [],
   "source": [
    "memory = ConversationBufferMemory(input_key=\"question\", memory_key=\"history\")"
   ]
  },
  {
   "cell_type": "code",
   "execution_count": 25,
   "metadata": {},
   "outputs": [],
   "source": [
    "#Extract data from the PDF\n",
    "def load_pdf(data):\n",
    "    loader = DirectoryLoader(data,\n",
    "                    glob=\"*.pdf\",\n",
    "                    loader_cls=PyPDFLoader)\n",
    "    \n",
    "    documents = loader.load()\n",
    "\n",
    "    return documents"
   ]
  },
  {
   "cell_type": "code",
   "execution_count": 26,
   "metadata": {},
   "outputs": [],
   "source": [
    "extracted_data = load_pdf(dataset)"
   ]
  },
  {
   "cell_type": "code",
   "execution_count": 27,
   "metadata": {},
   "outputs": [],
   "source": [
    "def text_splitter(data_pdf):\n",
    "    splitter = RecursiveCharacterTextSplitter(chunk_size=150, chunk_overlap=10)\n",
    "    chunks = splitter.split_documents(data_pdf)\n",
    "    \n",
    "    return chunks"
   ]
  },
  {
   "cell_type": "code",
   "execution_count": 28,
   "metadata": {},
   "outputs": [],
   "source": [
    "text_split_chunks = text_splitter(extracted_data)"
   ]
  },
  {
   "cell_type": "code",
   "execution_count": 29,
   "metadata": {},
   "outputs": [
    {
     "data": {
      "text/plain": [
       "[Document(page_content='Yes, you can book appointments and many treatments directly with us. For most procedures, a \\nGP referral is required.', metadata={'source': '/home/aster/FAQ-Chatbot-ChromaDB/data/dataset.pdf', 'page': 0}),\n",
       " Document(page_content='If you are insured, we also recommend that you check with your insurer that you are covered to \\nsee your preferred consultant at our hospital.', metadata={'source': '/home/aster/FAQ-Chatbot-ChromaDB/data/dataset.pdf', 'page': 0}),\n",
       " Document(page_content='You can easily book an appointment online with many of our consultants. To find a consultant', metadata={'source': '/home/aster/FAQ-Chatbot-ChromaDB/data/dataset.pdf', 'page': 0}),\n",
       " Document(page_content='near you, please clic k here. For more information, please call 0330 173 8200.', metadata={'source': '/home/aster/FAQ-Chatbot-ChromaDB/data/dataset.pdf', 'page': 0}),\n",
       " Document(page_content='We are proud to work with expert health professionals who specialize in a wide range of', metadata={'source': '/home/aster/FAQ-Chatbot-ChromaDB/data/dataset.pdf', 'page': 0}),\n",
       " Document(page_content='treatments and procedures across the UK. To find a consultant near you, please click here.', metadata={'source': '/home/aster/FAQ-Chatbot-ChromaDB/data/dataset.pdf', 'page': 0}),\n",
       " Document(page_content='Consultation fees vary as each consultant sets their own fee.', metadata={'source': '/home/aster/FAQ-Chatbot-ChromaDB/data/dataset.pdf', 'page': 0}),\n",
       " Document(page_content='If your consultant advises that you require additional tests or scans during your initial appointment,', metadata={'source': '/home/aster/FAQ-Chatbot-ChromaDB/data/dataset.pdf', 'page': 0}),\n",
       " Document(page_content='these costs will not be included in your initial consultation fee. Your consultant and hospital team', metadata={'source': '/home/aster/FAQ-Chatbot-ChromaDB/data/dataset.pdf', 'page': 0}),\n",
       " Document(page_content='will con firm these costs for you at that time.  \\nIf you require further information, please call us on 0330 173 8200..', metadata={'source': '/home/aster/FAQ-Chatbot-ChromaDB/data/dataset.pdf', 'page': 0}),\n",
       " Document(page_content='A GP referral is required for most procedures as this will ensure that you are booked in for the', metadata={'source': '/home/aster/FAQ-Chatbot-ChromaDB/data/dataset.pdf', 'page': 0}),\n",
       " Document(page_content='appropriate speciality. There may be some treatme nts where a referral is not needed. For further', metadata={'source': '/home/aster/FAQ-Chatbot-ChromaDB/data/dataset.pdf', 'page': 0}),\n",
       " Document(page_content='information, please give us a call on 0330 173 8200.', metadata={'source': '/home/aster/FAQ-Chatbot-ChromaDB/data/dataset.pdf', 'page': 0}),\n",
       " Document(page_content='Nuffield Health also offers private GP services across the UK. To find your nearest location and', metadata={'source': '/home/aster/FAQ-Chatbot-ChromaDB/data/dataset.pdf', 'page': 0}),\n",
       " Document(page_content='for more information about our GP services, please click h ere.', metadata={'source': '/home/aster/FAQ-Chatbot-ChromaDB/data/dataset.pdf', 'page': 0}),\n",
       " Document(page_content='We will always do our best to find an appointment at a time that is convenient for you. For most', metadata={'source': '/home/aster/FAQ-Chatbot-ChromaDB/data/dataset.pdf', 'page': 0}),\n",
       " Document(page_content='initial appointments, the wait time will vary between a few days and a few weeks.', metadata={'source': '/home/aster/FAQ-Chatbot-ChromaDB/data/dataset.pdf', 'page': 0}),\n",
       " Document(page_content='Many of our consultants list their outpatient clinic days and times on our website and you can also', metadata={'source': '/home/aster/FAQ-Chatbot-ChromaDB/data/dataset.pdf', 'page': 0}),\n",
       " Document(page_content='book an appointment online. To find a consultant near you, please click here. You can also call', metadata={'source': '/home/aster/FAQ-Chatbot-ChromaDB/data/dataset.pdf', 'page': 0}),\n",
       " Document(page_content='us on 0330 173 8200 to confirm appointment availability.  \\nIf you require further treatment, your consultant will discuss the next st eps with you.', metadata={'source': '/home/aster/FAQ-Chatbot-ChromaDB/data/dataset.pdf', 'page': 0}),\n",
       " Document(page_content='Each treatment plan is different. You can take a look at our treatment guide prices before your \\ninitial consultation.', metadata={'source': '/home/aster/FAQ-Chatbot-ChromaDB/data/dataset.pdf', 'page': 0}),\n",
       " Document(page_content='We will offer you an all -inclusive procedure price following your initial consultation. For your peace', metadata={'source': '/home/aster/FAQ-Chatbot-ChromaDB/data/dataset.pdf', 'page': 0}),\n",
       " Document(page_content='of mind, this covers  all of your treatment costs, including aftercare, so that you do not have to \\nworry about unexpected bills.', metadata={'source': '/home/aster/FAQ-Chatbot-ChromaDB/data/dataset.pdf', 'page': 0}),\n",
       " Document(page_content='If you find an alternative private hospital in your local area offering a better price for the same', metadata={'source': '/home/aster/FAQ-Chatbot-ChromaDB/data/dataset.pdf', 'page': 0}),\n",
       " Document(page_content='procedure, sold with the same service conditions , we’ll lower our price to equal it. This is our \\nPromise to you.', metadata={'source': '/home/aster/FAQ-Chatbot-ChromaDB/data/dataset.pdf', 'page': 0}),\n",
       " Document(page_content='There are a few ways you can pay for your treatment:  \\n1.You can choose to pay for your consultation and treatment yourself.', metadata={'source': '/home/aster/FAQ-Chatbot-ChromaDB/data/dataset.pdf', 'page': 0}),\n",
       " Document(page_content='2.You can spread the cost of your treatment with a personal medica l loan through Chrysalis \\nFinance.', metadata={'source': '/home/aster/FAQ-Chatbot-ChromaDB/data/dataset.pdf', 'page': 0}),\n",
       " Document(page_content='3.If you have medical insurance, you will need to liaise closely with your insurance provider \\nthroughout your treatment.', metadata={'source': '/home/aster/FAQ-Chatbot-ChromaDB/data/dataset.pdf', 'page': 0}),\n",
       " Document(page_content='We recommend you check your excess with your insurance provider to know the level of coverage \\nthey pr ovide you.', metadata={'source': '/home/aster/FAQ-Chatbot-ChromaDB/data/dataset.pdf', 'page': 1}),\n",
       " Document(page_content='We understand that you may be worried or nervous about being examined or treated, so we have', metadata={'source': '/home/aster/FAQ-Chatbot-ChromaDB/data/dataset.pdf', 'page': 1}),\n",
       " Document(page_content='chaperons who can be with you. If you would like to bring a friend or family member, that is also \\nfine.', metadata={'source': '/home/aster/FAQ-Chatbot-ChromaDB/data/dataset.pdf', 'page': 1}),\n",
       " Document(page_content='fine. \\n \\nPlease let our staff know your requirements when you contact us. We are happy to make suitable', metadata={'source': '/home/aster/FAQ-Chatbot-ChromaDB/data/dataset.pdf', 'page': 1}),\n",
       " Document(page_content='arrangements before your visit. If you’d like to bring a friend or family member, please feel free to \\ndo so.', metadata={'source': '/home/aster/FAQ-Chatbot-ChromaDB/data/dataset.pdf', 'page': 1}),\n",
       " Document(page_content='You can discuss your medication or medical conditio ns with your consultant during your initial', metadata={'source': '/home/aster/FAQ-Chatbot-ChromaDB/data/dataset.pdf', 'page': 1}),\n",
       " Document(page_content='appointment. Please bring any medications or a list of the medicines that you are on to your \\nconsultation.', metadata={'source': '/home/aster/FAQ-Chatbot-ChromaDB/data/dataset.pdf', 'page': 1}),\n",
       " Document(page_content='You can also discuss your concerns with the nurse during your pre -assessment appointment or', metadata={'source': '/home/aster/FAQ-Chatbot-ChromaDB/data/dataset.pdf', 'page': 1}),\n",
       " Document(page_content='pre-assessmen t telephone call before your treatment. Our nurses will ensure that you receive', metadata={'source': '/home/aster/FAQ-Chatbot-ChromaDB/data/dataset.pdf', 'page': 1}),\n",
       " Document(page_content='suitable guidance before your treatment. If needed, they will also liaise with your consultant and \\nanaesthetist.', metadata={'source': '/home/aster/FAQ-Chatbot-ChromaDB/data/dataset.pdf', 'page': 1}),\n",
       " Document(page_content='You can discuss your medication or medical conditions with you r consultant during your initial', metadata={'source': '/home/aster/FAQ-Chatbot-ChromaDB/data/dataset.pdf', 'page': 1}),\n",
       " Document(page_content='appointment. Please bring any medications or a list of the medicines that you are on to your \\nconsultation.', metadata={'source': '/home/aster/FAQ-Chatbot-ChromaDB/data/dataset.pdf', 'page': 1}),\n",
       " Document(page_content='You can also discuss your concerns with the nurse during your pre -assessment appointment or', metadata={'source': '/home/aster/FAQ-Chatbot-ChromaDB/data/dataset.pdf', 'page': 1}),\n",
       " Document(page_content='pre-assessment telephone  call before your treatment. Our nurses will ensure that you receive', metadata={'source': '/home/aster/FAQ-Chatbot-ChromaDB/data/dataset.pdf', 'page': 1}),\n",
       " Document(page_content='suitable guidance before your treatment. If needed, they will also liaise with your consultant and \\nanaesthetist.', metadata={'source': '/home/aster/FAQ-Chatbot-ChromaDB/data/dataset.pdf', 'page': 1}),\n",
       " Document(page_content='Yes, please let the team know your requirements and we will send you all information in your \\npreferred format.', metadata={'source': '/home/aster/FAQ-Chatbot-ChromaDB/data/dataset.pdf', 'page': 1}),\n",
       " Document(page_content='Please let our team know your requirements and they will provide you with further information. All', metadata={'source': '/home/aster/FAQ-Chatbot-ChromaDB/data/dataset.pdf', 'page': 1}),\n",
       " Document(page_content='clinical information must be provided to you accurately so that you can make an informed decision \\nabout your treatment .', metadata={'source': '/home/aster/FAQ-Chatbot-ChromaDB/data/dataset.pdf', 'page': 1}),\n",
       " Document(page_content='To ensure you get the most out of your appointment, we recommend that you do not bring young', metadata={'source': '/home/aster/FAQ-Chatbot-ChromaDB/data/dataset.pdf', 'page': 1}),\n",
       " Document(page_content='children with you. You may be required to have tests completed and therefore the environment \\nmay not be suitable.', metadata={'source': '/home/aster/FAQ-Chatbot-ChromaDB/data/dataset.pdf', 'page': 1}),\n",
       " Document(page_content='We understand how important the support of fam ily and friends is, so we aim to be flexible with', metadata={'source': '/home/aster/FAQ-Chatbot-ChromaDB/data/dataset.pdf', 'page': 1}),\n",
       " Document(page_content='our visiting hours. Please check with the relevant hospital to confirm their specific visitor policy.', metadata={'source': '/home/aster/FAQ-Chatbot-ChromaDB/data/dataset.pdf', 'page': 1}),\n",
       " Document(page_content='Please inform the nurse if you have any allergies including latex when you arrive at your \\nappointment.', metadata={'source': '/home/aster/FAQ-Chatbot-ChromaDB/data/dataset.pdf', 'page': 1}),\n",
       " Document(page_content='You can discuss allergies and special requirements with your consultant during your initial \\nconsultation.', metadata={'source': '/home/aster/FAQ-Chatbot-ChromaDB/data/dataset.pdf', 'page': 2}),\n",
       " Document(page_content='Our pre -assessment nurse will discuss allergies and special requirements with you during your', metadata={'source': '/home/aster/FAQ-Chatbot-ChromaDB/data/dataset.pdf', 'page': 2}),\n",
       " Document(page_content='pre-assessment appointment or pre -assessment telephone assessment before your admission.', metadata={'source': '/home/aster/FAQ-Chatbot-ChromaDB/data/dataset.pdf', 'page': 2}),\n",
       " Document(page_content='Yes, most patients will have a private room. Some of our hospitals have an ambulatory care suite', metadata={'source': '/home/aster/FAQ-Chatbot-ChromaDB/data/dataset.pdf', 'page': 2}),\n",
       " Document(page_content='for patients, who need minor procedures without general anaesthetic.', metadata={'source': '/home/aster/FAQ-Chatbot-ChromaDB/data/dataset.pdf', 'page': 2}),\n",
       " Document(page_content='If you are looking into treatments, these are some ter ms that you will come across:', metadata={'source': '/home/aster/FAQ-Chatbot-ChromaDB/data/dataset.pdf', 'page': 2}),\n",
       " Document(page_content='Outpatient – a patient who comes in (attends) for a short consultation – this could also be a test, \\na minor treatment or a scan.', metadata={'source': '/home/aster/FAQ-Chatbot-ChromaDB/data/dataset.pdf', 'page': 2}),\n",
       " Document(page_content='Day case – a patient who is admitted to the ward for a procedure. This may require some recovery', metadata={'source': '/home/aster/FAQ-Chatbot-ChromaDB/data/dataset.pdf', 'page': 2}),\n",
       " Document(page_content='time but patients should be able to go home on the same day. There may be some assessment \\nor preparation before admission.', metadata={'source': '/home/aster/FAQ-Chatbot-ChromaDB/data/dataset.pdf', 'page': 2}),\n",
       " Document(page_content='Inpatient – a patient who stays in the hospital for one or more nights. There may be some \\nassessment or preparation before admission.', metadata={'source': '/home/aster/FAQ-Chatbot-ChromaDB/data/dataset.pdf', 'page': 2}),\n",
       " Document(page_content='We have a wide range of tests and scans available at our hospitals.', metadata={'source': '/home/aster/FAQ-Chatbot-ChromaDB/data/dataset.pdf', 'page': 2}),\n",
       " Document(page_content='Yes, you can. Our price will include the cost of the test or scan, and the report. Reporting will be', metadata={'source': '/home/aster/FAQ-Chatbot-ChromaDB/data/dataset.pdf', 'page': 2}),\n",
       " Document(page_content='provided by some of the UK’s most qualified Radiologists and Pathologists.', metadata={'source': '/home/aster/FAQ-Chatbot-ChromaDB/data/dataset.pdf', 'page': 2}),\n",
       " Document(page_content='Click here to view the prices of our most popular tests and scans at your chosen Nuffield Health \\nhospital.', metadata={'source': '/home/aster/FAQ-Chatbot-ChromaDB/data/dataset.pdf', 'page': 2}),\n",
       " Document(page_content='This will vary depending on the scan you require and the availability of our consultant radiologists,', metadata={'source': '/home/aster/FAQ-Chatbot-ChromaDB/data/dataset.pdf', 'page': 2}),\n",
       " Document(page_content='however we endeavour to book appointments as q uickly as possible.', metadata={'source': '/home/aster/FAQ-Chatbot-ChromaDB/data/dataset.pdf', 'page': 2}),\n",
       " Document(page_content='Yes, please let us know where and when you had your test or scan taken as soon as possible', metadata={'source': '/home/aster/FAQ-Chatbot-ChromaDB/data/dataset.pdf', 'page': 2}),\n",
       " Document(page_content='and our team will do their best to obtain your results ready for your consultant to view.  \\n \\nWe have a radiology department in all our hospitals.', metadata={'source': '/home/aster/FAQ-Chatbot-ChromaDB/data/dataset.pdf', 'page': 2}),\n",
       " Document(page_content='To book a scan, you will first need to obtain a referral from a suitable health -care professional.', metadata={'source': '/home/aster/FAQ-Chatbot-ChromaDB/data/dataset.pdf', 'page': 2}),\n",
       " Document(page_content='Your health -care professional will either send your referral directly to your chosen Nuffield Health', metadata={'source': '/home/aster/FAQ-Chatbot-ChromaDB/data/dataset.pdf', 'page': 2}),\n",
       " Document(page_content='Radiology department, or they may provide you with the referral. If this is the case, you can email', metadata={'source': '/home/aster/FAQ-Chatbot-ChromaDB/data/dataset.pdf', 'page': 2}),\n",
       " Document(page_content='your referral to us. Once your referral has been reviewed, a member of the team will contact you', metadata={'source': '/home/aster/FAQ-Chatbot-ChromaDB/data/dataset.pdf', 'page': 2}),\n",
       " Document(page_content='via phone call to book a suitable appointment for you.', metadata={'source': '/home/aster/FAQ-Chatbot-ChromaDB/data/dataset.pdf', 'page': 2}),\n",
       " Document(page_content='Some scans do require specific preparation. This will be d iscussed with you when you book your', metadata={'source': '/home/aster/FAQ-Chatbot-ChromaDB/data/dataset.pdf', 'page': 2}),\n",
       " Document(page_content='appointment and will be confirmed in your appointment confirmation. If you have booked a scan', metadata={'source': '/home/aster/FAQ-Chatbot-ChromaDB/data/dataset.pdf', 'page': 2}),\n",
       " Document(page_content='and have any questions regarding your preparation instructions, please contact your hospital via \\nphone or email.', metadata={'source': '/home/aster/FAQ-Chatbot-ChromaDB/data/dataset.pdf', 'page': 2}),\n",
       " Document(page_content='Once your s can has been completed, our Radiologists will report on your results. The report will', metadata={'source': '/home/aster/FAQ-Chatbot-ChromaDB/data/dataset.pdf', 'page': 3}),\n",
       " Document(page_content='be sent to your referring health -care professional within approximately one week of your', metadata={'source': '/home/aster/FAQ-Chatbot-ChromaDB/data/dataset.pdf', 'page': 3}),\n",
       " Document(page_content='appointment. Reporting times may vary for specialist examinations, so we recommen d checking', metadata={'source': '/home/aster/FAQ-Chatbot-ChromaDB/data/dataset.pdf', 'page': 3}),\n",
       " Document(page_content='with the hospital team before you leave. Your health -care professional will be responsible for \\nrelaying the results to you.', metadata={'source': '/home/aster/FAQ-Chatbot-ChromaDB/data/dataset.pdf', 'page': 3}),\n",
       " Document(page_content='Due to the medical nature of reports, your results need to be interpreted and relayed to you by a', metadata={'source': '/home/aster/FAQ-Chatbot-ChromaDB/data/dataset.pdf', 'page': 3}),\n",
       " Document(page_content='health -care profession al. For this reason, we are unable to provide reports direactly to patients', metadata={'source': '/home/aster/FAQ-Chatbot-ChromaDB/data/dataset.pdf', 'page': 3}),\n",
       " Document(page_content='until we have received confirmation that your referring clinician has relayed your results to you.', metadata={'source': '/home/aster/FAQ-Chatbot-ChromaDB/data/dataset.pdf', 'page': 3})]"
      ]
     },
     "execution_count": 29,
     "metadata": {},
     "output_type": "execute_result"
    }
   ],
   "source": [
    "text_split_chunks"
   ]
  },
  {
   "cell_type": "code",
   "execution_count": 30,
   "metadata": {},
   "outputs": [
    {
     "name": "stdout",
     "output_type": "stream",
     "text": [
      "84\n"
     ]
    }
   ],
   "source": [
    "print(len(text_split_chunks))"
   ]
  },
  {
   "cell_type": "code",
   "execution_count": 31,
   "metadata": {},
   "outputs": [],
   "source": [
    "def text_to_embeddings():\n",
    "    embeddings = HuggingFaceEmbeddings(model_name=\"sentence-transformers/all-MiniLM-L6-v2\")\n",
    "    return embeddings"
   ]
  },
  {
   "cell_type": "code",
   "execution_count": 32,
   "metadata": {},
   "outputs": [
    {
     "name": "stderr",
     "output_type": "stream",
     "text": [
      "/home/aster/FAQ-Chatbot-ChromaDB/chroma/lib/python3.10/site-packages/tqdm/auto.py:21: TqdmWarning: IProgress not found. Please update jupyter and ipywidgets. See https://ipywidgets.readthedocs.io/en/stable/user_install.html\n",
      "  from .autonotebook import tqdm as notebook_tqdm\n",
      "The cache for model files in Transformers v4.22.0 has been updated. Migrating your old cache. This is a one-time only operation. You can interrupt this and resume the migration later on by calling `transformers.utils.move_cache()`.\n",
      "0it [00:00, ?it/s]\n",
      "/home/aster/FAQ-Chatbot-ChromaDB/chroma/lib/python3.10/site-packages/huggingface_hub/file_download.py:1132: FutureWarning: `resume_download` is deprecated and will be removed in version 1.0.0. Downloads always resume when possible. If you want to force a new download, use `force_download=True`.\n",
      "  warnings.warn(\n"
     ]
    }
   ],
   "source": [
    "embeddings = text_to_embeddings()"
   ]
  },
  {
   "cell_type": "code",
   "execution_count": 33,
   "metadata": {},
   "outputs": [
    {
     "data": {
      "text/plain": [
       "HuggingFaceEmbeddings(client=SentenceTransformer(\n",
       "  (0): Transformer({'max_seq_length': 256, 'do_lower_case': False}) with Transformer model: BertModel \n",
       "  (1): Pooling({'word_embedding_dimension': 384, 'pooling_mode_cls_token': False, 'pooling_mode_mean_tokens': True, 'pooling_mode_max_tokens': False, 'pooling_mode_mean_sqrt_len_tokens': False, 'pooling_mode_weightedmean_tokens': False, 'pooling_mode_lasttoken': False, 'include_prompt': True})\n",
       "  (2): Normalize()\n",
       "), model_name='sentence-transformers/all-MiniLM-L6-v2', cache_folder=None, model_kwargs={}, encode_kwargs={}, multi_process=False, show_progress=False)"
      ]
     },
     "execution_count": 33,
     "metadata": {},
     "output_type": "execute_result"
    }
   ],
   "source": [
    "embeddings"
   ]
  },
  {
   "cell_type": "code",
   "execution_count": 34,
   "metadata": {},
   "outputs": [
    {
     "name": "stdout",
     "output_type": "stream",
     "text": [
      "Length 384\n"
     ]
    }
   ],
   "source": [
    "query_result = embeddings.embed_query(\"Hello world\")\n",
    "print(\"Length\", len(query_result))"
   ]
  },
  {
   "cell_type": "code",
   "execution_count": 35,
   "metadata": {},
   "outputs": [
    {
     "data": {
      "text/plain": [
       "[-0.03447726368904114,\n",
       " 0.031023193150758743,\n",
       " 0.0067349947057664394,\n",
       " 0.02610894665122032,\n",
       " -0.03936201333999634,\n",
       " -0.16030244529247284,\n",
       " 0.06692396849393845,\n",
       " -0.006441481877118349,\n",
       " -0.04745052754878998,\n",
       " 0.014758824370801449,\n",
       " 0.07087526470422745,\n",
       " 0.05552756413817406,\n",
       " 0.019193341955542564,\n",
       " -0.026251332834362984,\n",
       " -0.010109550319612026,\n",
       " -0.026940450072288513,\n",
       " 0.022307418286800385,\n",
       " -0.022226607427001,\n",
       " -0.1496926248073578,\n",
       " -0.01749303564429283,\n",
       " 0.007676276378333569,\n",
       " 0.0543522946536541,\n",
       " 0.00325443921610713,\n",
       " 0.03172590211033821,\n",
       " -0.08462145179510117,\n",
       " -0.0294059868901968,\n",
       " 0.051595594733953476,\n",
       " 0.048124048858881,\n",
       " -0.003314807778224349,\n",
       " -0.05827918276190758,\n",
       " 0.04196925461292267,\n",
       " 0.022210685536265373,\n",
       " 0.1281888484954834,\n",
       " -0.02233896590769291,\n",
       " -0.01165627222508192,\n",
       " 0.06292841583490372,\n",
       " -0.03287633880972862,\n",
       " -0.09122608602046967,\n",
       " -0.031175406649708748,\n",
       " 0.052699532359838486,\n",
       " 0.04703480750322342,\n",
       " -0.08420310169458389,\n",
       " -0.030056176707148552,\n",
       " -0.02074483036994934,\n",
       " 0.009517806582152843,\n",
       " -0.003721789922565222,\n",
       " 0.0073432838544249535,\n",
       " 0.0393243208527565,\n",
       " 0.09327404201030731,\n",
       " -0.003788574365898967,\n",
       " -0.052742086350917816,\n",
       " -0.05805818736553192,\n",
       " -0.006864399183541536,\n",
       " 0.005283276084810495,\n",
       " 0.08289305120706558,\n",
       " 0.019362781196832657,\n",
       " 0.006284540984779596,\n",
       " -0.010330780409276485,\n",
       " 0.009032380767166615,\n",
       " -0.037683747708797455,\n",
       " -0.045206114649772644,\n",
       " 0.024016333743929863,\n",
       " -0.006944159045815468,\n",
       " 0.013491624966263771,\n",
       " 0.10005496442317963,\n",
       " -0.0716838613152504,\n",
       " -0.02169506810605526,\n",
       " 0.03161845728754997,\n",
       " -0.051634665578603745,\n",
       " -0.08224772661924362,\n",
       " -0.06569330394268036,\n",
       " -0.009895351715385914,\n",
       " 0.005816372577100992,\n",
       " 0.07355459779500961,\n",
       " -0.034050341695547104,\n",
       " 0.024886108934879303,\n",
       " 0.014488051645457745,\n",
       " 0.026457343250513077,\n",
       " 0.009656710550189018,\n",
       " 0.030217260122299194,\n",
       " 0.05280395597219467,\n",
       " -0.07535987347364426,\n",
       " 0.00989716686308384,\n",
       " 0.02983682230114937,\n",
       " 0.017555590718984604,\n",
       " 0.02309199795126915,\n",
       " 0.0019338536076247692,\n",
       " 0.001400224631652236,\n",
       " -0.047175969928503036,\n",
       " -0.011194318532943726,\n",
       " -0.11420144885778427,\n",
       " -0.019811972975730896,\n",
       " 0.0402662418782711,\n",
       " 0.002192958490923047,\n",
       " -0.07979219406843185,\n",
       " -0.025382284075021744,\n",
       " 0.09448301047086716,\n",
       " -0.028981119394302368,\n",
       " -0.14500251412391663,\n",
       " 0.23097746074199677,\n",
       " 0.027731135487556458,\n",
       " 0.032111458480358124,\n",
       " 0.03106500208377838,\n",
       " 0.04283282160758972,\n",
       " 0.06423778831958771,\n",
       " 0.03216312825679779,\n",
       " -0.0048766965046525,\n",
       " 0.055699385702610016,\n",
       " -0.03753235936164856,\n",
       " -0.021505502983927727,\n",
       " -0.02834261767566204,\n",
       " -0.02884693816304207,\n",
       " 0.03835303708910942,\n",
       " -0.017468685284256935,\n",
       " 0.052485305815935135,\n",
       " -0.07487601041793823,\n",
       " -0.031259723007678986,\n",
       " 0.021841557696461678,\n",
       " -0.0398956760764122,\n",
       " -0.00858711265027523,\n",
       " 0.026956627145409584,\n",
       " -0.04849550873041153,\n",
       " 0.011469880118966103,\n",
       " 0.029618194326758385,\n",
       " -0.020572183653712273,\n",
       " 0.013103886507451534,\n",
       " 0.028833463788032532,\n",
       " -3.19419761545428e-33,\n",
       " 0.06478208303451538,\n",
       " -0.018130170181393623,\n",
       " 0.051789961755275726,\n",
       " 0.12198273837566376,\n",
       " 0.028780192136764526,\n",
       " 0.008721995167434216,\n",
       " -0.07052117586135864,\n",
       " -0.016907300800085068,\n",
       " 0.040739696472883224,\n",
       " 0.0421161986887455,\n",
       " 0.025447171181440353,\n",
       " 0.03574628010392189,\n",
       " -0.049144767224788666,\n",
       " 0.002129028318449855,\n",
       " -0.015546568669378757,\n",
       " 0.05073055997490883,\n",
       " -0.04818534106016159,\n",
       " 0.035880621522665024,\n",
       " -0.004067053087055683,\n",
       " 0.10172472149133682,\n",
       " -0.05597001686692238,\n",
       " -0.010681030340492725,\n",
       " 0.011235754936933517,\n",
       " 0.09068653732538223,\n",
       " 0.004234452731907368,\n",
       " 0.035138681530952454,\n",
       " -0.009702864103019238,\n",
       " -0.09386512637138367,\n",
       " 0.0928555279970169,\n",
       " 0.008004914969205856,\n",
       " -0.00770534435287118,\n",
       " -0.052086688578128815,\n",
       " -0.01258802693337202,\n",
       " 0.0032669261563569307,\n",
       " 0.006013570353388786,\n",
       " 0.00758156506344676,\n",
       " 0.010517144575715065,\n",
       " -0.08634556829929352,\n",
       " -0.06987875699996948,\n",
       " -0.002533882623538375,\n",
       " -0.09097660332918167,\n",
       " 0.04688732326030731,\n",
       " 0.05207652226090431,\n",
       " 0.007193798664957285,\n",
       " 0.010903642512857914,\n",
       " -0.005229541566222906,\n",
       " 0.01393731590360403,\n",
       " 0.021968325600028038,\n",
       " 0.03420865163207054,\n",
       " 0.06022467091679573,\n",
       " 0.00011664949852274731,\n",
       " 0.01473192311823368,\n",
       " -0.07008923590183258,\n",
       " 0.02849900908768177,\n",
       " -0.027601731941103935,\n",
       " 0.01076840702444315,\n",
       " 0.034830935299396515,\n",
       " -0.022487888112664223,\n",
       " 0.00976902712136507,\n",
       " 0.07722784578800201,\n",
       " 0.02158835344016552,\n",
       " 0.11495622247457504,\n",
       " -0.0680011510848999,\n",
       " 0.023760972544550896,\n",
       " -0.01598387211561203,\n",
       " -0.01782696135342121,\n",
       " 0.06439491361379623,\n",
       " 0.03202570229768753,\n",
       " 0.05027029663324356,\n",
       " -0.005913723725825548,\n",
       " -0.03370802849531174,\n",
       " 0.01784025877714157,\n",
       " 0.016573328524827957,\n",
       " 0.06329656392335892,\n",
       " 0.03467714414000511,\n",
       " 0.046473532915115356,\n",
       " 0.09790614247322083,\n",
       " -0.006635506171733141,\n",
       " 0.025207100436091423,\n",
       " -0.07798831909894943,\n",
       " 0.01692643202841282,\n",
       " -0.0009458272834308445,\n",
       " 0.022471915930509567,\n",
       " -0.038253214210271835,\n",
       " 0.09570483863353729,\n",
       " -0.005350810941308737,\n",
       " 0.010469065047800541,\n",
       " -0.11524052172899246,\n",
       " -0.013262507505714893,\n",
       " -0.010709457099437714,\n",
       " -0.08311727643013,\n",
       " 0.07327357679605484,\n",
       " 0.04939224570989609,\n",
       " -0.008994328789412975,\n",
       " -0.09584560245275497,\n",
       " 3.366147459724626e-33,\n",
       " 0.12493187934160233,\n",
       " 0.019349711015820503,\n",
       " -0.058225732296705246,\n",
       " -0.03598819673061371,\n",
       " -0.050746724009513855,\n",
       " -0.04566234350204468,\n",
       " -0.08260343968868256,\n",
       " 0.14819477498531342,\n",
       " -0.08842121064662933,\n",
       " 0.06027441844344139,\n",
       " 0.051030173897743225,\n",
       " 0.010303194634616375,\n",
       " 0.14121423661708832,\n",
       " 0.030813779681921005,\n",
       " 0.06103309988975525,\n",
       " -0.05285125970840454,\n",
       " 0.13664893805980682,\n",
       " 0.009189874865114689,\n",
       " -0.017325179651379585,\n",
       " -0.012848635204136372,\n",
       " -0.007995332591235638,\n",
       " -0.0509801059961319,\n",
       " -0.05235063657164574,\n",
       " 0.007593054790049791,\n",
       " -0.015166284516453743,\n",
       " 0.016960343345999718,\n",
       " 0.021270545199513435,\n",
       " 0.020558038726449013,\n",
       " -0.12002808600664139,\n",
       " 0.014461803250014782,\n",
       " 0.026759866625070572,\n",
       " 0.02533065713942051,\n",
       " -0.04275466501712799,\n",
       " 0.006768485996872187,\n",
       " -0.01445857435464859,\n",
       " 0.04526198282837868,\n",
       " -0.09147650748491287,\n",
       " -0.019439077004790306,\n",
       " -0.01783348247408867,\n",
       " -0.05491011589765549,\n",
       " -0.0526411235332489,\n",
       " -0.01045901793986559,\n",
       " -0.05201609060168266,\n",
       " 0.020892055705189705,\n",
       " -0.0799703299999237,\n",
       " -0.012111252173781395,\n",
       " -0.05773142725229263,\n",
       " 0.023178258910775185,\n",
       " -0.008031770586967468,\n",
       " -0.025989318266510963,\n",
       " -0.07995671033859253,\n",
       " -0.020728854462504387,\n",
       " 0.048817697912454605,\n",
       " -0.02038910798728466,\n",
       " -0.04917658120393753,\n",
       " 0.014159663580358028,\n",
       " -0.06362202763557434,\n",
       " -0.007807412650436163,\n",
       " 0.016431495547294617,\n",
       " -0.025682462379336357,\n",
       " 0.01338114868849516,\n",
       " 0.026248749345541,\n",
       " 0.009978404268622398,\n",
       " 0.06322886794805527,\n",
       " 0.002672194968909025,\n",
       " -0.006582746747881174,\n",
       " 0.016631951555609703,\n",
       " 0.03236645832657814,\n",
       " 0.03794249892234802,\n",
       " -0.036376092582941055,\n",
       " -0.006910891272127628,\n",
       " 0.00015962125326041132,\n",
       " -0.0016335457330569625,\n",
       " -0.027278156951069832,\n",
       " -0.02803807333111763,\n",
       " 0.04968145489692688,\n",
       " -0.02886720560491085,\n",
       " -0.0024180745240300894,\n",
       " 0.014774860814213753,\n",
       " 0.00976458378136158,\n",
       " 0.005797586403787136,\n",
       " 0.013486133888363838,\n",
       " 0.005567891523241997,\n",
       " 0.0372270904481411,\n",
       " 0.007232534699141979,\n",
       " 0.04015626385807991,\n",
       " 0.08150327205657959,\n",
       " 0.07199167460203171,\n",
       " -0.013056175783276558,\n",
       " -0.04288202524185181,\n",
       " -0.011011245660483837,\n",
       " 0.00489779794588685,\n",
       " -0.00922971498221159,\n",
       " 0.03519147261977196,\n",
       " -0.05103498697280884,\n",
       " -1.571437557856825e-08,\n",
       " -0.08862442523241043,\n",
       " 0.023909350857138634,\n",
       " -0.01623876765370369,\n",
       " 0.03170047700405121,\n",
       " 0.02728419564664364,\n",
       " 0.052468810230493546,\n",
       " -0.047070957720279694,\n",
       " -0.05884748324751854,\n",
       " -0.0632082149386406,\n",
       " 0.04088851809501648,\n",
       " 0.04982799291610718,\n",
       " 0.10655169934034348,\n",
       " -0.07450232654809952,\n",
       " -0.012495421804487705,\n",
       " 0.018370645120739937,\n",
       " 0.03947414830327034,\n",
       " -0.024797946214675903,\n",
       " 0.01451632846146822,\n",
       " -0.03706920146942139,\n",
       " 0.020015766844153404,\n",
       " -4.8584795877104625e-05,\n",
       " 0.009866534732282162,\n",
       " 0.024838751181960106,\n",
       " -0.052458129823207855,\n",
       " 0.029314173385500908,\n",
       " -0.08719193935394287,\n",
       " -0.014499752782285213,\n",
       " 0.026019064709544182,\n",
       " -0.018746372312307358,\n",
       " -0.07620514929294586,\n",
       " 0.035043273121118546,\n",
       " 0.10363952070474625,\n",
       " -0.02805054932832718,\n",
       " 0.012718182988464832,\n",
       " -0.07632551342248917,\n",
       " -0.018652359023690224,\n",
       " 0.024976730346679688,\n",
       " 0.08144530653953552,\n",
       " 0.06875889003276825,\n",
       " -0.0640566423535347,\n",
       " -0.08389384299516678,\n",
       " 0.06136242300271988,\n",
       " -0.033545512706041336,\n",
       " -0.10615336149930954,\n",
       " -0.04008055105805397,\n",
       " 0.03253021091222763,\n",
       " 0.07662486284971237,\n",
       " -0.0730162188410759,\n",
       " 0.0003375500382389873,\n",
       " -0.04087163507938385,\n",
       " -0.07578852027654648,\n",
       " 0.02752763219177723,\n",
       " 0.07462543994188309,\n",
       " 0.017717270180583,\n",
       " 0.09121846407651901,\n",
       " 0.11022017151117325,\n",
       " 0.0005697978194803,\n",
       " 0.051463350653648376,\n",
       " -0.014551280066370964,\n",
       " 0.03323202207684517,\n",
       " 0.02379225380718708,\n",
       " -0.022889815270900726,\n",
       " 0.0389375202357769,\n",
       " 0.030206842347979546]"
      ]
     },
     "execution_count": 35,
     "metadata": {},
     "output_type": "execute_result"
    }
   ],
   "source": [
    "query_result"
   ]
  },
  {
   "cell_type": "code",
   "execution_count": 36,
   "metadata": {},
   "outputs": [],
   "source": [
    "persist_directory = 'chat_db'\n",
    "\n",
    "vectordb = chroma.Chroma.from_documents(documents=text_split_chunks, embedding=embeddings, persist_directory=persist_directory)"
   ]
  },
  {
   "cell_type": "code",
   "execution_count": 37,
   "metadata": {},
   "outputs": [],
   "source": [
    "vectordb.persist()\n",
    "vectordb = None"
   ]
  },
  {
   "cell_type": "code",
   "execution_count": 38,
   "metadata": {},
   "outputs": [],
   "source": [
    "vectordb = chroma.Chroma(persist_directory=persist_directory, embedding_function=embeddings)"
   ]
  },
  {
   "cell_type": "code",
   "execution_count": 39,
   "metadata": {},
   "outputs": [],
   "source": [
    "retriever = vectordb.as_retriever()"
   ]
  },
  {
   "cell_type": "code",
   "execution_count": 40,
   "metadata": {},
   "outputs": [
    {
     "name": "stderr",
     "output_type": "stream",
     "text": [
      "/home/aster/FAQ-Chatbot-ChromaDB/chroma/lib/python3.10/site-packages/langchain_core/_api/deprecation.py:119: LangChainDeprecationWarning: The method `BaseRetriever.get_relevant_documents` was deprecated in langchain-core 0.1.46 and will be removed in 0.3.0. Use invoke instead.\n",
      "  warn_deprecated(\n"
     ]
    }
   ],
   "source": [
    "docsearch = retriever.get_relevant_documents('Do I need a referral from my GP?')"
   ]
  },
  {
   "cell_type": "code",
   "execution_count": 41,
   "metadata": {},
   "outputs": [
    {
     "name": "stdout",
     "output_type": "stream",
     "text": [
      "[Document(page_content='A GP referral is required for most procedures as this will ensure that you are booked in for the', metadata={'page': 0, 'source': '/home/aster/FAQ-Chatbot-ChromaDB/data/dataset.pdf'}), Document(page_content='A GP referral is required for most procedures as this will ensure that you are booked in for the', metadata={'page': 0, 'source': 'C:\\\\Users\\\\Admin\\\\Desktop\\\\Aster\\\\FAQ Chatbot\\\\FAQ-Chatbot\\\\data\\\\dataset.pdf'}), Document(page_content='A GP referral is required for most procedures as this will ensure that you are booked in for the', metadata={'page': 0, 'source': 'C:\\\\Users\\\\Admin\\\\Desktop\\\\Aster\\\\FAQ Chatbot\\\\FAQ-Chatbot\\\\data\\\\dataset.pdf'}), Document(page_content='A GP referral is required for most procedures as this will ensure that you are booked in for the', metadata={'page': 0, 'source': 'C:\\\\Users\\\\Admin\\\\Desktop\\\\Aster\\\\FAQ Chatbot\\\\FAQ-Chatbot\\\\data\\\\dataset.pdf'})]\n"
     ]
    }
   ],
   "source": [
    "len(docsearch)\n",
    "print(docsearch)"
   ]
  },
  {
   "cell_type": "code",
   "execution_count": 42,
   "metadata": {},
   "outputs": [],
   "source": [
    "retriever = vectordb.as_retriever(search_kwargs={'k':4})"
   ]
  },
  {
   "cell_type": "code",
   "execution_count": 43,
   "metadata": {},
   "outputs": [],
   "source": [
    "prompt_template=\"\"\"\n",
    "Use the following pieces of information to answer the user's question. You are a helpful assistant who answers questions related to Nuffield Health Hospital.\n",
    "If the question is not related to Nuffield Health, respond with \"I don't know, It's out of my knowledge base.\", \n",
    "else if you don't know the answer, just say that to contact the helpline number 0330 173 8200. Not to ask for the phone number.\n",
    "\n",
    "Context: {context}\n",
    "\n",
    "Question: {question}\n",
    "\n",
    "Only return the helpful answer below and nothing else.\n",
    "Helpful answer:\n",
    "\"\"\"\n"
   ]
  },
  {
   "cell_type": "code",
   "execution_count": 44,
   "metadata": {},
   "outputs": [],
   "source": [
    "PROMPT=PromptTemplate(template=prompt_template, input_variables=[\"context\", \"question\"])"
   ]
  },
  {
   "cell_type": "code",
   "execution_count": 45,
   "metadata": {},
   "outputs": [],
   "source": [
    "chain_type_kwargs={\"prompt\": PROMPT}"
   ]
  },
  {
   "cell_type": "code",
   "execution_count": 46,
   "metadata": {},
   "outputs": [
    {
     "name": "stderr",
     "output_type": "stream",
     "text": [
      "/home/aster/FAQ-Chatbot-ChromaDB/chroma/lib/python3.10/site-packages/langchain_core/utils/utils.py:161: UserWarning: WARNING! model_type is not default parameter.\n",
      "                model_type was transferred to model_kwargs.\n",
      "                Please confirm that model_type is what you intended.\n",
      "  warnings.warn(\n",
      "/home/aster/FAQ-Chatbot-ChromaDB/chroma/lib/python3.10/site-packages/langchain_core/utils/utils.py:161: UserWarning: WARNING! retriever is not default parameter.\n",
      "                retriever was transferred to model_kwargs.\n",
      "                Please confirm that retriever is what you intended.\n",
      "  warnings.warn(\n",
      "/home/aster/FAQ-Chatbot-ChromaDB/chroma/lib/python3.10/site-packages/langchain_core/utils/utils.py:161: UserWarning: WARNING! context_length is not default parameter.\n",
      "                context_length was transferred to model_kwargs.\n",
      "                Please confirm that context_length is what you intended.\n",
      "  warnings.warn(\n",
      "llama_model_loader: loaded meta data with 19 key-value pairs and 291 tensors from /home/aster/FAQ-Chatbot-ChromaDB/model/llama-2-7b-chat.Q5_K_M.gguf.bin (version GGUF V2)\n",
      "llama_model_loader: Dumping metadata keys/values. Note: KV overrides do not apply in this output.\n",
      "llama_model_loader: - kv   0:                       general.architecture str              = llama\n",
      "llama_model_loader: - kv   1:                               general.name str              = LLaMA v2\n",
      "llama_model_loader: - kv   2:                       llama.context_length u32              = 4096\n",
      "llama_model_loader: - kv   3:                     llama.embedding_length u32              = 4096\n",
      "llama_model_loader: - kv   4:                          llama.block_count u32              = 32\n",
      "llama_model_loader: - kv   5:                  llama.feed_forward_length u32              = 11008\n",
      "llama_model_loader: - kv   6:                 llama.rope.dimension_count u32              = 128\n",
      "llama_model_loader: - kv   7:                 llama.attention.head_count u32              = 32\n",
      "llama_model_loader: - kv   8:              llama.attention.head_count_kv u32              = 32\n",
      "llama_model_loader: - kv   9:     llama.attention.layer_norm_rms_epsilon f32              = 0.000001\n",
      "llama_model_loader: - kv  10:                          general.file_type u32              = 17\n",
      "llama_model_loader: - kv  11:                       tokenizer.ggml.model str              = llama\n",
      "llama_model_loader: - kv  12:                      tokenizer.ggml.tokens arr[str,32000]   = [\"<unk>\", \"<s>\", \"</s>\", \"<0x00>\", \"<...\n",
      "llama_model_loader: - kv  13:                      tokenizer.ggml.scores arr[f32,32000]   = [0.000000, 0.000000, 0.000000, 0.0000...\n",
      "llama_model_loader: - kv  14:                  tokenizer.ggml.token_type arr[i32,32000]   = [2, 3, 3, 6, 6, 6, 6, 6, 6, 6, 6, 6, ...\n",
      "llama_model_loader: - kv  15:                tokenizer.ggml.bos_token_id u32              = 1\n",
      "llama_model_loader: - kv  16:                tokenizer.ggml.eos_token_id u32              = 2\n",
      "llama_model_loader: - kv  17:            tokenizer.ggml.unknown_token_id u32              = 0\n",
      "llama_model_loader: - kv  18:               general.quantization_version u32              = 2\n",
      "llama_model_loader: - type  f32:   65 tensors\n",
      "llama_model_loader: - type q5_K:  193 tensors\n",
      "llama_model_loader: - type q6_K:   33 tensors\n",
      "llm_load_vocab: special tokens definition check successful ( 259/32000 ).\n",
      "llm_load_print_meta: format           = GGUF V2\n",
      "llm_load_print_meta: arch             = llama\n",
      "llm_load_print_meta: vocab type       = SPM\n",
      "llm_load_print_meta: n_vocab          = 32000\n",
      "llm_load_print_meta: n_merges         = 0\n",
      "llm_load_print_meta: n_ctx_train      = 4096\n",
      "llm_load_print_meta: n_embd           = 4096\n",
      "llm_load_print_meta: n_head           = 32\n",
      "llm_load_print_meta: n_head_kv        = 32\n",
      "llm_load_print_meta: n_layer          = 32\n",
      "llm_load_print_meta: n_rot            = 128\n",
      "llm_load_print_meta: n_embd_head_k    = 128\n",
      "llm_load_print_meta: n_embd_head_v    = 128\n",
      "llm_load_print_meta: n_gqa            = 1\n",
      "llm_load_print_meta: n_embd_k_gqa     = 4096\n",
      "llm_load_print_meta: n_embd_v_gqa     = 4096\n",
      "llm_load_print_meta: f_norm_eps       = 0.0e+00\n",
      "llm_load_print_meta: f_norm_rms_eps   = 1.0e-06\n",
      "llm_load_print_meta: f_clamp_kqv      = 0.0e+00\n",
      "llm_load_print_meta: f_max_alibi_bias = 0.0e+00\n",
      "llm_load_print_meta: f_logit_scale    = 0.0e+00\n",
      "llm_load_print_meta: n_ff             = 11008\n",
      "llm_load_print_meta: n_expert         = 0\n",
      "llm_load_print_meta: n_expert_used    = 0\n",
      "llm_load_print_meta: causal attn      = 1\n",
      "llm_load_print_meta: pooling type     = 0\n",
      "llm_load_print_meta: rope type        = 0\n",
      "llm_load_print_meta: rope scaling     = linear\n",
      "llm_load_print_meta: freq_base_train  = 10000.0\n",
      "llm_load_print_meta: freq_scale_train = 1\n",
      "llm_load_print_meta: n_yarn_orig_ctx  = 4096\n",
      "llm_load_print_meta: rope_finetuned   = unknown\n",
      "llm_load_print_meta: ssm_d_conv       = 0\n",
      "llm_load_print_meta: ssm_d_inner      = 0\n",
      "llm_load_print_meta: ssm_d_state      = 0\n",
      "llm_load_print_meta: ssm_dt_rank      = 0\n",
      "llm_load_print_meta: model type       = 7B\n",
      "llm_load_print_meta: model ftype      = Q5_K - Medium\n",
      "llm_load_print_meta: model params     = 6.74 B\n",
      "llm_load_print_meta: model size       = 4.45 GiB (5.68 BPW) \n",
      "llm_load_print_meta: general.name     = LLaMA v2\n",
      "llm_load_print_meta: BOS token        = 1 '<s>'\n",
      "llm_load_print_meta: EOS token        = 2 '</s>'\n",
      "llm_load_print_meta: UNK token        = 0 '<unk>'\n",
      "llm_load_print_meta: LF token         = 13 '<0x0A>'\n",
      "llm_load_tensors: ggml ctx size =    0.15 MiB\n",
      "llm_load_tensors:        CPU buffer size =  4560.87 MiB\n",
      "..................................................................................................\n",
      "llama_new_context_with_model: n_batch is less than GGML_KQ_MASK_PAD - increasing to 32\n",
      "llama_new_context_with_model: n_ctx      = 4096\n",
      "llama_new_context_with_model: n_batch    = 32\n",
      "llama_new_context_with_model: n_ubatch   = 32\n",
      "llama_new_context_with_model: flash_attn = 0\n",
      "llama_new_context_with_model: freq_base  = 10000.0\n",
      "llama_new_context_with_model: freq_scale = 1\n",
      "llama_kv_cache_init:        CPU KV buffer size =  2048.00 MiB\n",
      "llama_new_context_with_model: KV self size  = 2048.00 MiB, K (f16): 1024.00 MiB, V (f16): 1024.00 MiB\n",
      "llama_new_context_with_model:        CPU  output buffer size =     0.12 MiB\n",
      "llama_new_context_with_model:        CPU compute buffer size =    18.50 MiB\n",
      "llama_new_context_with_model: graph nodes  = 1030\n",
      "llama_new_context_with_model: graph splits = 1\n",
      "AVX = 1 | AVX_VNNI = 1 | AVX2 = 1 | AVX512 = 0 | AVX512_VBMI = 0 | AVX512_VNNI = 0 | FMA = 1 | NEON = 0 | ARM_FMA = 0 | F16C = 1 | FP16_VA = 0 | WASM_SIMD = 0 | BLAS = 0 | SSE3 = 1 | SSSE3 = 1 | VSX = 0 | MATMUL_INT8 = 0 | LLAMAFILE = 1 | \n",
      "Model metadata: {'tokenizer.ggml.unknown_token_id': '0', 'tokenizer.ggml.eos_token_id': '2', 'general.architecture': 'llama', 'llama.context_length': '4096', 'general.name': 'LLaMA v2', 'llama.embedding_length': '4096', 'llama.feed_forward_length': '11008', 'llama.attention.layer_norm_rms_epsilon': '0.000001', 'llama.rope.dimension_count': '128', 'llama.attention.head_count': '32', 'tokenizer.ggml.bos_token_id': '1', 'llama.block_count': '32', 'llama.attention.head_count_kv': '32', 'general.quantization_version': '2', 'tokenizer.ggml.model': 'llama', 'general.file_type': '17'}\n",
      "Using fallback chat format: llama-2\n"
     ]
    }
   ],
   "source": [
    "llm2 = llamacpp.LlamaCpp(model_path=r\"/home/aster/FAQ-Chatbot-ChromaDB/model/llama-2-7b-chat.Q5_K_M.gguf.bin\", model_type=\"llama\", n_ctx=4096, n_gpu_layers=-1, n_threads=4, retriever=retriever, verbose=True, temperature=0.5, context_length=4096, max_tokens=2048)"
   ]
  },
  {
   "cell_type": "code",
   "execution_count": 47,
   "metadata": {},
   "outputs": [],
   "source": [
    "qa=RetrievalQA.from_chain_type(\n",
    "    llm=llm2, \n",
    "    chain_type=\"stuff\", \n",
    "    retriever=vectordb.as_retriever(search_kwargs={'k': 2}),\n",
    "    return_source_documents=False, \n",
    "    chain_type_kwargs=chain_type_kwargs)"
   ]
  },
  {
   "cell_type": "code",
   "execution_count": 48,
   "metadata": {},
   "outputs": [
    {
     "name": "stderr",
     "output_type": "stream",
     "text": [
      "/home/aster/FAQ-Chatbot-ChromaDB/chroma/lib/python3.10/site-packages/langchain_core/_api/deprecation.py:119: LangChainDeprecationWarning: The method `Chain.__call__` was deprecated in langchain 0.1.0 and will be removed in 0.2.0. Use invoke instead.\n",
      "  warn_deprecated(\n",
      "\n",
      "llama_print_timings:        load time =    5177.24 ms\n",
      "llama_print_timings:      sample time =      13.23 ms /    63 runs   (    0.21 ms per token,  4762.98 tokens per second)\n",
      "llama_print_timings: prompt eval time =   39392.98 ms /   189 tokens (  208.43 ms per token,     4.80 tokens per second)\n",
      "llama_print_timings:        eval time =   19778.16 ms /    62 runs   (  319.00 ms per token,     3.13 tokens per second)\n",
      "llama_print_timings:       total time =   59449.81 ms /   251 tokens\n"
     ]
    },
    {
     "name": "stdout",
     "output_type": "stream",
     "text": [
      "Response :  You do indeed require a GP referral for most procedures at Nuffield Health Hospital. Please speak to your GP to obtain a referral before booking an appointment. Alternatively, you can contact our helpline on 0330 173 8200 for more information.\n"
     ]
    },
    {
     "name": "stderr",
     "output_type": "stream",
     "text": [
      "Llama.generate: prefix-match hit\n",
      "\n",
      "llama_print_timings:        load time =    5177.24 ms\n",
      "llama_print_timings:      sample time =      12.62 ms /    56 runs   (    0.23 ms per token,  4439.16 tokens per second)\n",
      "llama_print_timings: prompt eval time =   14655.48 ms /    74 tokens (  198.05 ms per token,     5.05 tokens per second)\n",
      "llama_print_timings:        eval time =   16764.45 ms /    55 runs   (  304.81 ms per token,     3.28 tokens per second)\n",
      "llama_print_timings:       total time =   31618.29 ms /   129 tokens\n"
     ]
    },
    {
     "name": "stdout",
     "output_type": "stream",
     "text": [
      "Response :  Bon Jovi is not a doctor or medical professional at Nuffield Health Hospital. If you have any questions about our hospital or treatment options, please don't hesitate to contact us on 0330 173 8200.\n"
     ]
    },
    {
     "name": "stderr",
     "output_type": "stream",
     "text": [
      "Llama.generate: prefix-match hit\n",
      "\n",
      "llama_print_timings:        load time =    5177.24 ms\n",
      "llama_print_timings:      sample time =       8.36 ms /    41 runs   (    0.20 ms per token,  4903.13 tokens per second)\n",
      "llama_print_timings: prompt eval time =   15821.55 ms /    62 tokens (  255.19 ms per token,     3.92 tokens per second)\n",
      "llama_print_timings:        eval time =   12208.48 ms /    40 runs   (  305.21 ms per token,     3.28 tokens per second)\n",
      "llama_print_timings:       total time =   28163.59 ms /   102 tokens\n"
     ]
    },
    {
     "name": "stdout",
     "output_type": "stream",
     "text": [
      "Response :  The consultation fee for a specific consultant can be found on their profile page or by contacting our helpline number 0330 173 8200.\n"
     ]
    },
    {
     "name": "stderr",
     "output_type": "stream",
     "text": [
      "Llama.generate: prefix-match hit\n",
      "\n",
      "llama_print_timings:        load time =    5177.24 ms\n",
      "llama_print_timings:      sample time =      22.19 ms /   107 runs   (    0.21 ms per token,  4822.43 tokens per second)\n",
      "llama_print_timings: prompt eval time =   13699.91 ms /    67 tokens (  204.48 ms per token,     4.89 tokens per second)\n",
      "llama_print_timings:        eval time =   32396.55 ms /   106 runs   (  305.63 ms per token,     3.27 tokens per second)\n",
      "llama_print_timings:       total time =   46428.81 ms /   173 tokens\n"
     ]
    },
    {
     "name": "stdout",
     "output_type": "stream",
     "text": [
      "Response :  Yes, we do have a visitors' policy in place at our hospital. Visitors are allowed between 2pm and 8pm every day, except for certain areas of the hospital where visiting is restricted for privacy or safety reasons. Please check with the nursing staff on duty for more information.\n",
      "I don't know, It's out of my knowledge base.\n",
      "To contact the helpline number, please click here 0330 173 8200.\n"
     ]
    },
    {
     "name": "stderr",
     "output_type": "stream",
     "text": [
      "Llama.generate: prefix-match hit\n"
     ]
    }
   ],
   "source": [
    "while True:\n",
    "    user_input=input(f\"Input Prompt:\")\n",
    "    result=qa({\"query\": user_input})\n",
    "    print(\"Response : \", result[\"result\"])"
   ]
  }
 ],
 "metadata": {
  "kernelspec": {
   "display_name": "chroma",
   "language": "python",
   "name": "python3"
  },
  "language_info": {
   "codemirror_mode": {
    "name": "ipython",
    "version": 3
   },
   "file_extension": ".py",
   "mimetype": "text/x-python",
   "name": "python",
   "nbconvert_exporter": "python",
   "pygments_lexer": "ipython3",
   "version": "3.10.10"
  }
 },
 "nbformat": 4,
 "nbformat_minor": 2
}
